{
 "cells": [
  {
   "cell_type": "code",
   "execution_count": 1,
   "id": "6de093da-739f-4068-a72b-1431fda539ea",
   "metadata": {},
   "outputs": [],
   "source": [
    "from sklearn.datasets import load_iris"
   ]
  },
  {
   "cell_type": "markdown",
   "id": "89532429-3c99-445c-84e9-462520a53b8c",
   "metadata": {},
   "source": [
    "# Loading Iris"
   ]
  },
  {
   "cell_type": "code",
   "execution_count": 5,
   "id": "2029784a-008d-4706-89b4-83e31feac961",
   "metadata": {},
   "outputs": [],
   "source": [
    "iris=load_iris()"
   ]
  },
  {
   "cell_type": "markdown",
   "id": "b4f7f85d-bf60-4f65-9e6c-e3183b1ae692",
   "metadata": {},
   "source": [
    "# Loading Iris's dataset"
   ]
  },
  {
   "cell_type": "code",
   "execution_count": 6,
   "id": "300d8f48-23fa-4059-8e15-721387bc734a",
   "metadata": {},
   "outputs": [
    {
     "data": {
      "text/plain": [
       "array([[5.1, 3.5, 1.4, 0.2],\n",
       "       [4.9, 3. , 1.4, 0.2],\n",
       "       [4.7, 3.2, 1.3, 0.2],\n",
       "       [4.6, 3.1, 1.5, 0.2],\n",
       "       [5. , 3.6, 1.4, 0.2],\n",
       "       [5.4, 3.9, 1.7, 0.4],\n",
       "       [4.6, 3.4, 1.4, 0.3],\n",
       "       [5. , 3.4, 1.5, 0.2],\n",
       "       [4.4, 2.9, 1.4, 0.2],\n",
       "       [4.9, 3.1, 1.5, 0.1]])"
      ]
     },
     "execution_count": 6,
     "metadata": {},
     "output_type": "execute_result"
    }
   ],
   "source": [
    "dataset=iris.data\n",
    "dataset[:10]"
   ]
  },
  {
   "cell_type": "markdown",
   "id": "7c33be16-b328-4225-8081-76392b028d91",
   "metadata": {},
   "source": [
    "# Checking Independent & Dependent Columns"
   ]
  },
  {
   "cell_type": "code",
   "execution_count": 7,
   "id": "591b67b3-4c0d-4c40-822b-b112a5915608",
   "metadata": {},
   "outputs": [
    {
     "name": "stdout",
     "output_type": "stream",
     "text": [
      "Independent Variables :  ['sepal length (cm)', 'sepal width (cm)', 'petal length (cm)', 'petal width (cm)']\n",
      "Dependent Variables :  ['setosa' 'versicolor' 'virginica']\n"
     ]
    }
   ],
   "source": [
    "cols=iris.feature_names # X\n",
    "pre=iris.target_names # Y\n",
    "\n",
    "print(\"Independent Variables : \",cols)\n",
    "print(\"Dependent Variables : \",pre)"
   ]
  }
 ],
 "metadata": {
  "kernelspec": {
   "display_name": "Python 3 (ipykernel)",
   "language": "python",
   "name": "python3"
  },
  "language_info": {
   "codemirror_mode": {
    "name": "ipython",
    "version": 3
   },
   "file_extension": ".py",
   "mimetype": "text/x-python",
   "name": "python",
   "nbconvert_exporter": "python",
   "pygments_lexer": "ipython3",
   "version": "3.12.7"
  }
 },
 "nbformat": 4,
 "nbformat_minor": 5
}
