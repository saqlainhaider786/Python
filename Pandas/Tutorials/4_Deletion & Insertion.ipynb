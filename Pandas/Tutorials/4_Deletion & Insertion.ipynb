{
 "cells": [
  {
   "cell_type": "code",
   "execution_count": 1,
   "id": "4e47bae2-1d4e-4013-aa01-cb15f2d98e6b",
   "metadata": {},
   "outputs": [],
   "source": [
    "import pandas as pd"
   ]
  },
  {
   "cell_type": "markdown",
   "id": "898b0776-b014-4e68-b2f1-2bc939909872",
   "metadata": {},
   "source": [
    "***"
   ]
  },
  {
   "cell_type": "markdown",
   "id": "a64eead2-c307-4568-b9c5-8d014dbf3fca",
   "metadata": {},
   "source": [
    "# Insertion of Data\n",
    "***We can insert new cols into dataframes***\n",
    "***\n",
    "**insert(col_index,col_name,col_data)**"
   ]
  },
  {
   "cell_type": "code",
   "execution_count": 2,
   "id": "e88b751e-a180-4961-80d2-632c749f8d7e",
   "metadata": {},
   "outputs": [
    {
     "data": {
      "text/html": [
       "<div>\n",
       "<style scoped>\n",
       "    .dataframe tbody tr th:only-of-type {\n",
       "        vertical-align: middle;\n",
       "    }\n",
       "\n",
       "    .dataframe tbody tr th {\n",
       "        vertical-align: top;\n",
       "    }\n",
       "\n",
       "    .dataframe thead th {\n",
       "        text-align: right;\n",
       "    }\n",
       "</style>\n",
       "<table border=\"1\" class=\"dataframe\">\n",
       "  <thead>\n",
       "    <tr style=\"text-align: right;\">\n",
       "      <th></th>\n",
       "      <th>Name</th>\n",
       "      <th>Age</th>\n",
       "    </tr>\n",
       "  </thead>\n",
       "  <tbody>\n",
       "    <tr>\n",
       "      <th>0</th>\n",
       "      <td>Ahmed</td>\n",
       "      <td>26</td>\n",
       "    </tr>\n",
       "    <tr>\n",
       "      <th>1</th>\n",
       "      <td>Haider</td>\n",
       "      <td>25</td>\n",
       "    </tr>\n",
       "    <tr>\n",
       "      <th>2</th>\n",
       "      <td>Zahra</td>\n",
       "      <td>18</td>\n",
       "    </tr>\n",
       "    <tr>\n",
       "      <th>3</th>\n",
       "      <td>Hassan</td>\n",
       "      <td>22</td>\n",
       "    </tr>\n",
       "    <tr>\n",
       "      <th>4</th>\n",
       "      <td>Hussain</td>\n",
       "      <td>24</td>\n",
       "    </tr>\n",
       "  </tbody>\n",
       "</table>\n",
       "</div>"
      ],
      "text/plain": [
       "      Name  Age\n",
       "0    Ahmed   26\n",
       "1   Haider   25\n",
       "2    Zahra   18\n",
       "3   Hassan   22\n",
       "4  Hussain   24"
      ]
     },
     "execution_count": 2,
     "metadata": {},
     "output_type": "execute_result"
    }
   ],
   "source": [
    "data=pd.DataFrame({\"Name\":[\"Ahmed\",\"Haider\",\"Zahra\",\"Hassan\",\"Hussain\"],\"Age\":[26,25,18,22,24]})\n",
    "\n",
    "data"
   ]
  },
  {
   "cell_type": "code",
   "execution_count": 3,
   "id": "4d0adc2b-5a76-43b5-a38d-d4d6af6eafe0",
   "metadata": {},
   "outputs": [
    {
     "data": {
      "text/html": [
       "<div>\n",
       "<style scoped>\n",
       "    .dataframe tbody tr th:only-of-type {\n",
       "        vertical-align: middle;\n",
       "    }\n",
       "\n",
       "    .dataframe tbody tr th {\n",
       "        vertical-align: top;\n",
       "    }\n",
       "\n",
       "    .dataframe thead th {\n",
       "        text-align: right;\n",
       "    }\n",
       "</style>\n",
       "<table border=\"1\" class=\"dataframe\">\n",
       "  <thead>\n",
       "    <tr style=\"text-align: right;\">\n",
       "      <th></th>\n",
       "      <th>Name</th>\n",
       "      <th>Father Name</th>\n",
       "      <th>Age</th>\n",
       "    </tr>\n",
       "  </thead>\n",
       "  <tbody>\n",
       "    <tr>\n",
       "      <th>0</th>\n",
       "      <td>Ahmed</td>\n",
       "      <td>Abdullah</td>\n",
       "      <td>26</td>\n",
       "    </tr>\n",
       "    <tr>\n",
       "      <th>1</th>\n",
       "      <td>Haider</td>\n",
       "      <td>Imran</td>\n",
       "      <td>25</td>\n",
       "    </tr>\n",
       "    <tr>\n",
       "      <th>2</th>\n",
       "      <td>Zahra</td>\n",
       "      <td>Ahmed</td>\n",
       "      <td>18</td>\n",
       "    </tr>\n",
       "    <tr>\n",
       "      <th>3</th>\n",
       "      <td>Hassan</td>\n",
       "      <td>Haider</td>\n",
       "      <td>22</td>\n",
       "    </tr>\n",
       "    <tr>\n",
       "      <th>4</th>\n",
       "      <td>Hussain</td>\n",
       "      <td>Ali</td>\n",
       "      <td>24</td>\n",
       "    </tr>\n",
       "  </tbody>\n",
       "</table>\n",
       "</div>"
      ],
      "text/plain": [
       "      Name Father Name  Age\n",
       "0    Ahmed    Abdullah   26\n",
       "1   Haider       Imran   25\n",
       "2    Zahra       Ahmed   18\n",
       "3   Hassan      Haider   22\n",
       "4  Hussain         Ali   24"
      ]
     },
     "execution_count": 3,
     "metadata": {},
     "output_type": "execute_result"
    }
   ],
   "source": [
    "data.insert(1,\"Father Name\",[\"Abdullah\",\"Imran\",\"Ahmed\",\"Haider\",\"Ali\"])\n",
    "data"
   ]
  },
  {
   "cell_type": "markdown",
   "id": "4c486f10-524a-4923-aca6-847ab746158a",
   "metadata": {},
   "source": [
    "***\n",
    "**Copy of data into new col from existing col**\n",
    "***"
   ]
  },
  {
   "cell_type": "code",
   "execution_count": 4,
   "id": "05dca9b3-7e5f-4fb5-bc98-dd85b6847da8",
   "metadata": {},
   "outputs": [
    {
     "data": {
      "text/html": [
       "<div>\n",
       "<style scoped>\n",
       "    .dataframe tbody tr th:only-of-type {\n",
       "        vertical-align: middle;\n",
       "    }\n",
       "\n",
       "    .dataframe tbody tr th {\n",
       "        vertical-align: top;\n",
       "    }\n",
       "\n",
       "    .dataframe thead th {\n",
       "        text-align: right;\n",
       "    }\n",
       "</style>\n",
       "<table border=\"1\" class=\"dataframe\">\n",
       "  <thead>\n",
       "    <tr style=\"text-align: right;\">\n",
       "      <th></th>\n",
       "      <th>Name</th>\n",
       "      <th>Father Name</th>\n",
       "      <th>Age</th>\n",
       "      <th>Last Name</th>\n",
       "    </tr>\n",
       "  </thead>\n",
       "  <tbody>\n",
       "    <tr>\n",
       "      <th>0</th>\n",
       "      <td>Ahmed</td>\n",
       "      <td>Abdullah</td>\n",
       "      <td>26</td>\n",
       "      <td>NaN</td>\n",
       "    </tr>\n",
       "    <tr>\n",
       "      <th>1</th>\n",
       "      <td>Haider</td>\n",
       "      <td>Imran</td>\n",
       "      <td>25</td>\n",
       "      <td>NaN</td>\n",
       "    </tr>\n",
       "    <tr>\n",
       "      <th>2</th>\n",
       "      <td>Zahra</td>\n",
       "      <td>Ahmed</td>\n",
       "      <td>18</td>\n",
       "      <td>Ahmed</td>\n",
       "    </tr>\n",
       "    <tr>\n",
       "      <th>3</th>\n",
       "      <td>Hassan</td>\n",
       "      <td>Haider</td>\n",
       "      <td>22</td>\n",
       "      <td>Haider</td>\n",
       "    </tr>\n",
       "    <tr>\n",
       "      <th>4</th>\n",
       "      <td>Hussain</td>\n",
       "      <td>Ali</td>\n",
       "      <td>24</td>\n",
       "      <td>Ali</td>\n",
       "    </tr>\n",
       "  </tbody>\n",
       "</table>\n",
       "</div>"
      ],
      "text/plain": [
       "      Name Father Name  Age Last Name\n",
       "0    Ahmed    Abdullah   26       NaN\n",
       "1   Haider       Imran   25       NaN\n",
       "2    Zahra       Ahmed   18     Ahmed\n",
       "3   Hassan      Haider   22    Haider\n",
       "4  Hussain         Ali   24       Ali"
      ]
     },
     "execution_count": 4,
     "metadata": {},
     "output_type": "execute_result"
    }
   ],
   "source": [
    "data[\"Last Name\"]=data[\"Father Name\"][2:]\n",
    "data"
   ]
  },
  {
   "cell_type": "markdown",
   "id": "cb3556bd-703d-41d7-b2d1-8547d5b5f3d3",
   "metadata": {},
   "source": [
    "***\n",
    "# Deletion of Data\n",
    "***"
   ]
  },
  {
   "cell_type": "markdown",
   "id": "71338b69-91e1-4b63-a22b-9a57c6339663",
   "metadata": {},
   "source": [
    "**Using pop(\"col_name\")**"
   ]
  },
  {
   "cell_type": "code",
   "execution_count": 5,
   "id": "fd179dca-759b-4909-b8a4-8161e2f67224",
   "metadata": {},
   "outputs": [
    {
     "name": "stdout",
     "output_type": "stream",
     "text": [
      "      Name Father Name  Age Last Name\n",
      "0    Ahmed    Abdullah   26       NaN\n",
      "1   Haider       Imran   25       NaN\n",
      "2    Zahra       Ahmed   18     Ahmed\n",
      "3   Hassan      Haider   22    Haider\n",
      "4  Hussain         Ali   24       Ali\n",
      "\n",
      "      Name Father Name  Age\n",
      "0    Ahmed    Abdullah   26\n",
      "1   Haider       Imran   25\n",
      "2    Zahra       Ahmed   18\n",
      "3   Hassan      Haider   22\n",
      "4  Hussain         Ali   24\n"
     ]
    }
   ],
   "source": [
    "print(data)\n",
    "print()\n",
    "data.pop(\"Last Name\")\n",
    "\n",
    "print(data)"
   ]
  },
  {
   "cell_type": "markdown",
   "id": "df9ded96-a149-486b-85de-361e0300ceb2",
   "metadata": {},
   "source": [
    "***\n",
    "**Using del keyword. (del df_VarName[\"col_name\"])**"
   ]
  },
  {
   "cell_type": "code",
   "execution_count": 6,
   "id": "543fe056-c436-46ff-b22d-22a9798d3e47",
   "metadata": {},
   "outputs": [
    {
     "data": {
      "text/html": [
       "<div>\n",
       "<style scoped>\n",
       "    .dataframe tbody tr th:only-of-type {\n",
       "        vertical-align: middle;\n",
       "    }\n",
       "\n",
       "    .dataframe tbody tr th {\n",
       "        vertical-align: top;\n",
       "    }\n",
       "\n",
       "    .dataframe thead th {\n",
       "        text-align: right;\n",
       "    }\n",
       "</style>\n",
       "<table border=\"1\" class=\"dataframe\">\n",
       "  <thead>\n",
       "    <tr style=\"text-align: right;\">\n",
       "      <th></th>\n",
       "      <th>Name</th>\n",
       "      <th>Father Name</th>\n",
       "    </tr>\n",
       "  </thead>\n",
       "  <tbody>\n",
       "    <tr>\n",
       "      <th>0</th>\n",
       "      <td>Ahmed</td>\n",
       "      <td>Abdullah</td>\n",
       "    </tr>\n",
       "    <tr>\n",
       "      <th>1</th>\n",
       "      <td>Haider</td>\n",
       "      <td>Imran</td>\n",
       "    </tr>\n",
       "    <tr>\n",
       "      <th>2</th>\n",
       "      <td>Zahra</td>\n",
       "      <td>Ahmed</td>\n",
       "    </tr>\n",
       "    <tr>\n",
       "      <th>3</th>\n",
       "      <td>Hassan</td>\n",
       "      <td>Haider</td>\n",
       "    </tr>\n",
       "    <tr>\n",
       "      <th>4</th>\n",
       "      <td>Hussain</td>\n",
       "      <td>Ali</td>\n",
       "    </tr>\n",
       "  </tbody>\n",
       "</table>\n",
       "</div>"
      ],
      "text/plain": [
       "      Name Father Name\n",
       "0    Ahmed    Abdullah\n",
       "1   Haider       Imran\n",
       "2    Zahra       Ahmed\n",
       "3   Hassan      Haider\n",
       "4  Hussain         Ali"
      ]
     },
     "execution_count": 6,
     "metadata": {},
     "output_type": "execute_result"
    }
   ],
   "source": [
    "del data[\"Age\"]\n",
    "\n",
    "data"
   ]
  },
  {
   "cell_type": "markdown",
   "id": "9fc4b39e-287b-481d-b444-c0a94722f67d",
   "metadata": {},
   "source": [
    "***"
   ]
  }
 ],
 "metadata": {
  "kernelspec": {
   "display_name": "Python 3 (ipykernel)",
   "language": "python",
   "name": "python3"
  },
  "language_info": {
   "codemirror_mode": {
    "name": "ipython",
    "version": 3
   },
   "file_extension": ".py",
   "mimetype": "text/x-python",
   "name": "python",
   "nbconvert_exporter": "python",
   "pygments_lexer": "ipython3",
   "version": "3.12.7"
  }
 },
 "nbformat": 4,
 "nbformat_minor": 5
}
