{
 "cells": [
  {
   "cell_type": "markdown",
   "id": "5f44d018-f6ed-453b-b36d-9c18a84b6e12",
   "metadata": {},
   "source": [
    "# CSV writing using Pandas\n",
    "***"
   ]
  },
  {
   "cell_type": "code",
   "execution_count": 1,
   "id": "e9230284-e26f-4ac3-b1f2-532a938a5c85",
   "metadata": {},
   "outputs": [],
   "source": [
    "import pandas as pd"
   ]
  },
  {
   "cell_type": "code",
   "execution_count": 2,
   "id": "a7fb359c-e754-4be4-9e5f-fcdb51befb62",
   "metadata": {},
   "outputs": [
    {
     "data": {
      "text/html": [
       "<div>\n",
       "<style scoped>\n",
       "    .dataframe tbody tr th:only-of-type {\n",
       "        vertical-align: middle;\n",
       "    }\n",
       "\n",
       "    .dataframe tbody tr th {\n",
       "        vertical-align: top;\n",
       "    }\n",
       "\n",
       "    .dataframe thead th {\n",
       "        text-align: right;\n",
       "    }\n",
       "</style>\n",
       "<table border=\"1\" class=\"dataframe\">\n",
       "  <thead>\n",
       "    <tr style=\"text-align: right;\">\n",
       "      <th></th>\n",
       "      <th>Names</th>\n",
       "      <th>Age</th>\n",
       "    </tr>\n",
       "  </thead>\n",
       "  <tbody>\n",
       "    <tr>\n",
       "      <th>i</th>\n",
       "      <td>Ali</td>\n",
       "      <td>21</td>\n",
       "    </tr>\n",
       "    <tr>\n",
       "      <th>ii</th>\n",
       "      <td>Hassan</td>\n",
       "      <td>25</td>\n",
       "    </tr>\n",
       "    <tr>\n",
       "      <th>iii</th>\n",
       "      <td>Hussain</td>\n",
       "      <td>16</td>\n",
       "    </tr>\n",
       "  </tbody>\n",
       "</table>\n",
       "</div>"
      ],
      "text/plain": [
       "       Names  Age\n",
       "i        Ali   21\n",
       "ii    Hassan   25\n",
       "iii  Hussain   16"
      ]
     },
     "execution_count": 2,
     "metadata": {},
     "output_type": "execute_result"
    }
   ],
   "source": [
    "dis={\"Names\":[\"Ali\",\"Hassan\",\"Hussain\"],\"Age\":[21,25,16]}\n",
    "data=pd.DataFrame(dis,index=[\"i\",\"ii\",\"iii\"])\n",
    "data"
   ]
  },
  {
   "cell_type": "markdown",
   "id": "fedceaea-5bdd-4ba0-ba54-cc07eb2476e4",
   "metadata": {},
   "source": [
    "***\n",
    "***To create csv of any dataframe \"dataframe_var_name.to_csv(\"csv_file_name.csv\")\" is used.***"
   ]
  },
  {
   "cell_type": "code",
   "execution_count": 3,
   "id": "097be1e2-3a95-4869-aeb8-cc4ff0234e18",
   "metadata": {},
   "outputs": [],
   "source": [
    "data.to_csv(\"StuName&Age.csv\",index=False)# index false is using to exclude index from csv"
   ]
  },
  {
   "cell_type": "code",
   "execution_count": null,
   "id": "247a51fd-5b8e-4aa2-9fd2-ee1e328f5d78",
   "metadata": {},
   "outputs": [],
   "source": []
  }
 ],
 "metadata": {
  "kernelspec": {
   "display_name": "Python 3 (ipykernel)",
   "language": "python",
   "name": "python3"
  },
  "language_info": {
   "codemirror_mode": {
    "name": "ipython",
    "version": 3
   },
   "file_extension": ".py",
   "mimetype": "text/x-python",
   "name": "python",
   "nbconvert_exporter": "python",
   "pygments_lexer": "ipython3",
   "version": "3.12.7"
  }
 },
 "nbformat": 4,
 "nbformat_minor": 5
}
