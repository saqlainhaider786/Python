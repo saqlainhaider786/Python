{
 "cells": [
  {
   "cell_type": "code",
   "execution_count": 1,
   "id": "f95c70bd-5daa-490d-ade5-d3f9fb2df590",
   "metadata": {},
   "outputs": [],
   "source": [
    "import pandas as pd"
   ]
  },
  {
   "cell_type": "markdown",
   "id": "b1b2c7e3-eb9a-4e9b-91f6-a8889c62ca2b",
   "metadata": {},
   "source": [
    "# Group By\n",
    "\n",
    "**It is used to group same data**\n",
    "***"
   ]
  },
  {
   "cell_type": "code",
   "execution_count": 2,
   "id": "9baf7299-82ca-4051-80b8-e10554911c88",
   "metadata": {},
   "outputs": [],
   "source": [
    "var=pd.DataFrame({\n",
    "                  \"Name\":[\"A\",\"B\",\"C\",\"D\",\"A\",\"B\",\"A\",\"B\",\"A\",\"C\",\"C\",\"D\"],\n",
    "                  \"S_1\":[12,14,13,16,14,15,15,13,16,12,15,13],\n",
    "                  \"S_2\":[22,18,23,22,23,20,22,25,18,23,20,25]\n",
    "                 })"
   ]
  },
  {
   "cell_type": "code",
   "execution_count": 3,
   "id": "58f1da77-3442-4e20-a3b1-d39ba323c839",
   "metadata": {},
   "outputs": [
    {
     "data": {
      "text/html": [
       "<div>\n",
       "<style scoped>\n",
       "    .dataframe tbody tr th:only-of-type {\n",
       "        vertical-align: middle;\n",
       "    }\n",
       "\n",
       "    .dataframe tbody tr th {\n",
       "        vertical-align: top;\n",
       "    }\n",
       "\n",
       "    .dataframe thead th {\n",
       "        text-align: right;\n",
       "    }\n",
       "</style>\n",
       "<table border=\"1\" class=\"dataframe\">\n",
       "  <thead>\n",
       "    <tr style=\"text-align: right;\">\n",
       "      <th></th>\n",
       "      <th>Name</th>\n",
       "      <th>S_1</th>\n",
       "      <th>S_2</th>\n",
       "    </tr>\n",
       "  </thead>\n",
       "  <tbody>\n",
       "    <tr>\n",
       "      <th>0</th>\n",
       "      <td>A</td>\n",
       "      <td>12</td>\n",
       "      <td>22</td>\n",
       "    </tr>\n",
       "    <tr>\n",
       "      <th>1</th>\n",
       "      <td>B</td>\n",
       "      <td>14</td>\n",
       "      <td>18</td>\n",
       "    </tr>\n",
       "    <tr>\n",
       "      <th>2</th>\n",
       "      <td>C</td>\n",
       "      <td>13</td>\n",
       "      <td>23</td>\n",
       "    </tr>\n",
       "    <tr>\n",
       "      <th>3</th>\n",
       "      <td>D</td>\n",
       "      <td>16</td>\n",
       "      <td>22</td>\n",
       "    </tr>\n",
       "    <tr>\n",
       "      <th>4</th>\n",
       "      <td>A</td>\n",
       "      <td>14</td>\n",
       "      <td>23</td>\n",
       "    </tr>\n",
       "    <tr>\n",
       "      <th>5</th>\n",
       "      <td>B</td>\n",
       "      <td>15</td>\n",
       "      <td>20</td>\n",
       "    </tr>\n",
       "    <tr>\n",
       "      <th>6</th>\n",
       "      <td>A</td>\n",
       "      <td>15</td>\n",
       "      <td>22</td>\n",
       "    </tr>\n",
       "    <tr>\n",
       "      <th>7</th>\n",
       "      <td>B</td>\n",
       "      <td>13</td>\n",
       "      <td>25</td>\n",
       "    </tr>\n",
       "    <tr>\n",
       "      <th>8</th>\n",
       "      <td>A</td>\n",
       "      <td>16</td>\n",
       "      <td>18</td>\n",
       "    </tr>\n",
       "    <tr>\n",
       "      <th>9</th>\n",
       "      <td>C</td>\n",
       "      <td>12</td>\n",
       "      <td>23</td>\n",
       "    </tr>\n",
       "    <tr>\n",
       "      <th>10</th>\n",
       "      <td>C</td>\n",
       "      <td>15</td>\n",
       "      <td>20</td>\n",
       "    </tr>\n",
       "    <tr>\n",
       "      <th>11</th>\n",
       "      <td>D</td>\n",
       "      <td>13</td>\n",
       "      <td>25</td>\n",
       "    </tr>\n",
       "  </tbody>\n",
       "</table>\n",
       "</div>"
      ],
      "text/plain": [
       "   Name  S_1  S_2\n",
       "0     A   12   22\n",
       "1     B   14   18\n",
       "2     C   13   23\n",
       "3     D   16   22\n",
       "4     A   14   23\n",
       "5     B   15   20\n",
       "6     A   15   22\n",
       "7     B   13   25\n",
       "8     A   16   18\n",
       "9     C   12   23\n",
       "10    C   15   20\n",
       "11    D   13   25"
      ]
     },
     "execution_count": 3,
     "metadata": {},
     "output_type": "execute_result"
    }
   ],
   "source": [
    "var"
   ]
  },
  {
   "cell_type": "markdown",
   "id": "91659f66-4500-49e1-ad2f-7b0b8fb9d740",
   "metadata": {},
   "source": [
    "***\n",
    "# Getting all values grouped Data"
   ]
  },
  {
   "cell_type": "code",
   "execution_count": 4,
   "id": "003b972f-ee92-4e63-99b2-3aba391703b1",
   "metadata": {},
   "outputs": [
    {
     "data": {
      "text/plain": [
       "<pandas.core.groupby.generic.DataFrameGroupBy object at 0x000001B72677F7D0>"
      ]
     },
     "execution_count": 4,
     "metadata": {},
     "output_type": "execute_result"
    }
   ],
   "source": [
    "varNw=var.groupby(\"Name\")#groupby(\"col_name acc to which we want to group data.\")\n",
    "varNw"
   ]
  },
  {
   "cell_type": "markdown",
   "id": "c04c96ed-106b-4944-b0ec-1cd0cad7ff35",
   "metadata": {},
   "source": [
    "***\n",
    "\n",
    "**==> First varibale determines Names Col_Data(A,B,C & D).**"
   ]
  },
  {
   "cell_type": "markdown",
   "id": "3f695c33-390a-4b45-b788-bea4250825e3",
   "metadata": {},
   "source": [
    "**==> Second variable determines S_1 & S_2 Data.**"
   ]
  },
  {
   "cell_type": "code",
   "execution_count": 5,
   "id": "82faaf59-a2e7-4cec-9b77-787188bb6cf0",
   "metadata": {},
   "outputs": [
    {
     "name": "stdout",
     "output_type": "stream",
     "text": [
      "A\n",
      "  Name  S_1  S_2\n",
      "0    A   12   22\n",
      "4    A   14   23\n",
      "6    A   15   22\n",
      "8    A   16   18\n",
      "\n",
      "B\n",
      "  Name  S_1  S_2\n",
      "1    B   14   18\n",
      "5    B   15   20\n",
      "7    B   13   25\n",
      "\n",
      "C\n",
      "   Name  S_1  S_2\n",
      "2     C   13   23\n",
      "9     C   12   23\n",
      "10    C   15   20\n",
      "\n",
      "D\n",
      "   Name  S_1  S_2\n",
      "3     D   16   22\n",
      "11    D   13   25\n",
      "\n"
     ]
    }
   ],
   "source": [
    "for x,y in varNw:\n",
    "    print(x)\n",
    "    print(y)\n",
    "    print()"
   ]
  },
  {
   "cell_type": "code",
   "execution_count": 6,
   "id": "61528e08-fdef-4f19-a3f8-29655ec8b466",
   "metadata": {},
   "outputs": [
    {
     "data": {
      "text/plain": [
       "<pandas.core.groupby.generic.DataFrameGroupBy object at 0x000001B72679C350>"
      ]
     },
     "execution_count": 6,
     "metadata": {},
     "output_type": "execute_result"
    }
   ],
   "source": [
    "varNw=var.groupby(\"S_1\")#groupby(\"col_name acc to which we want to group data.\")\n",
    "varNw"
   ]
  },
  {
   "cell_type": "code",
   "execution_count": 7,
   "id": "eace88c0-9f23-4a4e-868b-f1360aab8bf9",
   "metadata": {},
   "outputs": [
    {
     "name": "stdout",
     "output_type": "stream",
     "text": [
      "12\n",
      "  Name  S_1  S_2\n",
      "0    A   12   22\n",
      "9    C   12   23\n",
      "\n",
      "13\n",
      "   Name  S_1  S_2\n",
      "2     C   13   23\n",
      "7     B   13   25\n",
      "11    D   13   25\n",
      "\n",
      "14\n",
      "  Name  S_1  S_2\n",
      "1    B   14   18\n",
      "4    A   14   23\n",
      "\n",
      "15\n",
      "   Name  S_1  S_2\n",
      "5     B   15   20\n",
      "6     A   15   22\n",
      "10    C   15   20\n",
      "\n",
      "16\n",
      "  Name  S_1  S_2\n",
      "3    D   16   22\n",
      "8    A   16   18\n",
      "\n"
     ]
    }
   ],
   "source": [
    "for i,j in varNw:\n",
    "    print(i)\n",
    "    print(j)\n",
    "    print()"
   ]
  },
  {
   "cell_type": "markdown",
   "id": "8c05b1b9-33a1-484e-939a-18f381ebe6e2",
   "metadata": {},
   "source": [
    "***\n",
    "# Getting single value grouped value"
   ]
  },
  {
   "cell_type": "markdown",
   "id": "f65f5cfc-79e4-406d-a081-535dd2cbc686",
   "metadata": {},
   "source": [
    "**get_group(\"data\") is used for this purpose.**"
   ]
  },
  {
   "cell_type": "markdown",
   "id": "a7477e2a-5344-4319-98b9-d822e460d681",
   "metadata": {},
   "source": [
    "**It works with grouped data.**"
   ]
  },
  {
   "cell_type": "code",
   "execution_count": 8,
   "id": "d7783080-609f-4ee8-8498-ff08648e6b10",
   "metadata": {},
   "outputs": [
    {
     "data": {
      "text/html": [
       "<div>\n",
       "<style scoped>\n",
       "    .dataframe tbody tr th:only-of-type {\n",
       "        vertical-align: middle;\n",
       "    }\n",
       "\n",
       "    .dataframe tbody tr th {\n",
       "        vertical-align: top;\n",
       "    }\n",
       "\n",
       "    .dataframe thead th {\n",
       "        text-align: right;\n",
       "    }\n",
       "</style>\n",
       "<table border=\"1\" class=\"dataframe\">\n",
       "  <thead>\n",
       "    <tr style=\"text-align: right;\">\n",
       "      <th></th>\n",
       "      <th>Name</th>\n",
       "      <th>S_1</th>\n",
       "      <th>S_2</th>\n",
       "    </tr>\n",
       "  </thead>\n",
       "  <tbody>\n",
       "    <tr>\n",
       "      <th>2</th>\n",
       "      <td>C</td>\n",
       "      <td>13</td>\n",
       "      <td>23</td>\n",
       "    </tr>\n",
       "    <tr>\n",
       "      <th>7</th>\n",
       "      <td>B</td>\n",
       "      <td>13</td>\n",
       "      <td>25</td>\n",
       "    </tr>\n",
       "    <tr>\n",
       "      <th>11</th>\n",
       "      <td>D</td>\n",
       "      <td>13</td>\n",
       "      <td>25</td>\n",
       "    </tr>\n",
       "  </tbody>\n",
       "</table>\n",
       "</div>"
      ],
      "text/plain": [
       "   Name  S_1  S_2\n",
       "2     C   13   23\n",
       "7     B   13   25\n",
       "11    D   13   25"
      ]
     },
     "execution_count": 8,
     "metadata": {},
     "output_type": "execute_result"
    }
   ],
   "source": [
    "varNw.get_group(13) # returns Df of 13's grouped data"
   ]
  },
  {
   "cell_type": "markdown",
   "id": "d14bd83f-4c9f-4448-be66-c81de3fb0583",
   "metadata": {},
   "source": [
    "***\n",
    "# Getting min/max/min value"
   ]
  },
  {
   "cell_type": "code",
   "execution_count": 9,
   "id": "e82ca98d-a4f6-49c1-8be9-0f23645eee2a",
   "metadata": {},
   "outputs": [
    {
     "data": {
      "text/html": [
       "<div>\n",
       "<style scoped>\n",
       "    .dataframe tbody tr th:only-of-type {\n",
       "        vertical-align: middle;\n",
       "    }\n",
       "\n",
       "    .dataframe tbody tr th {\n",
       "        vertical-align: top;\n",
       "    }\n",
       "\n",
       "    .dataframe thead th {\n",
       "        text-align: right;\n",
       "    }\n",
       "</style>\n",
       "<table border=\"1\" class=\"dataframe\">\n",
       "  <thead>\n",
       "    <tr style=\"text-align: right;\">\n",
       "      <th></th>\n",
       "      <th>Name</th>\n",
       "      <th>S_2</th>\n",
       "    </tr>\n",
       "    <tr>\n",
       "      <th>S_1</th>\n",
       "      <th></th>\n",
       "      <th></th>\n",
       "    </tr>\n",
       "  </thead>\n",
       "  <tbody>\n",
       "    <tr>\n",
       "      <th>12</th>\n",
       "      <td>A</td>\n",
       "      <td>22</td>\n",
       "    </tr>\n",
       "    <tr>\n",
       "      <th>13</th>\n",
       "      <td>B</td>\n",
       "      <td>23</td>\n",
       "    </tr>\n",
       "    <tr>\n",
       "      <th>14</th>\n",
       "      <td>A</td>\n",
       "      <td>18</td>\n",
       "    </tr>\n",
       "    <tr>\n",
       "      <th>15</th>\n",
       "      <td>A</td>\n",
       "      <td>20</td>\n",
       "    </tr>\n",
       "    <tr>\n",
       "      <th>16</th>\n",
       "      <td>A</td>\n",
       "      <td>18</td>\n",
       "    </tr>\n",
       "  </tbody>\n",
       "</table>\n",
       "</div>"
      ],
      "text/plain": [
       "    Name  S_2\n",
       "S_1          \n",
       "12     A   22\n",
       "13     B   23\n",
       "14     A   18\n",
       "15     A   20\n",
       "16     A   18"
      ]
     },
     "execution_count": 9,
     "metadata": {},
     "output_type": "execute_result"
    }
   ],
   "source": [
    "varNw.min()"
   ]
  },
  {
   "cell_type": "code",
   "execution_count": 10,
   "id": "dce37bad-0aff-44b3-a1bc-78d3d827a289",
   "metadata": {},
   "outputs": [
    {
     "data": {
      "text/html": [
       "<div>\n",
       "<style scoped>\n",
       "    .dataframe tbody tr th:only-of-type {\n",
       "        vertical-align: middle;\n",
       "    }\n",
       "\n",
       "    .dataframe tbody tr th {\n",
       "        vertical-align: top;\n",
       "    }\n",
       "\n",
       "    .dataframe thead th {\n",
       "        text-align: right;\n",
       "    }\n",
       "</style>\n",
       "<table border=\"1\" class=\"dataframe\">\n",
       "  <thead>\n",
       "    <tr style=\"text-align: right;\">\n",
       "      <th></th>\n",
       "      <th>Name</th>\n",
       "      <th>S_2</th>\n",
       "    </tr>\n",
       "    <tr>\n",
       "      <th>S_1</th>\n",
       "      <th></th>\n",
       "      <th></th>\n",
       "    </tr>\n",
       "  </thead>\n",
       "  <tbody>\n",
       "    <tr>\n",
       "      <th>12</th>\n",
       "      <td>A</td>\n",
       "      <td>22</td>\n",
       "    </tr>\n",
       "    <tr>\n",
       "      <th>13</th>\n",
       "      <td>B</td>\n",
       "      <td>23</td>\n",
       "    </tr>\n",
       "    <tr>\n",
       "      <th>14</th>\n",
       "      <td>A</td>\n",
       "      <td>18</td>\n",
       "    </tr>\n",
       "    <tr>\n",
       "      <th>15</th>\n",
       "      <td>A</td>\n",
       "      <td>20</td>\n",
       "    </tr>\n",
       "    <tr>\n",
       "      <th>16</th>\n",
       "      <td>A</td>\n",
       "      <td>18</td>\n",
       "    </tr>\n",
       "  </tbody>\n",
       "</table>\n",
       "</div>"
      ],
      "text/plain": [
       "    Name  S_2\n",
       "S_1          \n",
       "12     A   22\n",
       "13     B   23\n",
       "14     A   18\n",
       "15     A   20\n",
       "16     A   18"
      ]
     },
     "execution_count": 10,
     "metadata": {},
     "output_type": "execute_result"
    }
   ],
   "source": [
    "varNw.min()"
   ]
  },
  {
   "cell_type": "code",
   "execution_count": 19,
   "id": "bc427a0b-7d87-43e2-9aee-97dd7d764cb1",
   "metadata": {},
   "outputs": [],
   "source": [
    "# varNw.mean() gives mean"
   ]
  }
 ],
 "metadata": {
  "kernelspec": {
   "display_name": "Python 3 (ipykernel)",
   "language": "python",
   "name": "python3"
  },
  "language_info": {
   "codemirror_mode": {
    "name": "ipython",
    "version": 3
   },
   "file_extension": ".py",
   "mimetype": "text/x-python",
   "name": "python",
   "nbconvert_exporter": "python",
   "pygments_lexer": "ipython3",
   "version": "3.11.7"
  }
 },
 "nbformat": 4,
 "nbformat_minor": 5
}
