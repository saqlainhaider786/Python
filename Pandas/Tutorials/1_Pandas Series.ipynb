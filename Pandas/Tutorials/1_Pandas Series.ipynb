{
 "cells": [
  {
   "cell_type": "markdown",
   "id": "33d19c0c-9032-44ee-8045-49b26d8ccb24",
   "metadata": {},
   "source": [
    "# Series\n",
    "**It is one dimensional array capable of storing various data types.**"
   ]
  },
  {
   "cell_type": "code",
   "execution_count": 1,
   "id": "c67613dd-a697-46d7-ae7d-9fbca4fe94d8",
   "metadata": {},
   "outputs": [],
   "source": [
    "import pandas as pd"
   ]
  },
  {
   "cell_type": "code",
   "execution_count": 2,
   "id": "a7cb6433-6efa-4196-b1b1-edd70cc63e8b",
   "metadata": {},
   "outputs": [
    {
     "data": {
      "text/plain": [
       "0    2\n",
       "1    4\n",
       "2    6\n",
       "3    8\n",
       "dtype: int64"
      ]
     },
     "execution_count": 2,
     "metadata": {},
     "output_type": "execute_result"
    }
   ],
   "source": [
    "mySer=pd.Series([2,4,6,8])\n",
    "mySer"
   ]
  },
  {
   "cell_type": "markdown",
   "id": "021c04fd-054f-4a98-8183-838f25753a5e",
   "metadata": {},
   "source": [
    "**Setting index**\n",
    "***"
   ]
  },
  {
   "cell_type": "code",
   "execution_count": 3,
   "id": "195dbb79-b19d-451c-aec3-21b7d80af154",
   "metadata": {},
   "outputs": [
    {
     "data": {
      "text/plain": [
       "i      2\n",
       "ii     4\n",
       "iii    6\n",
       "iv     8\n",
       "dtype: int64"
      ]
     },
     "execution_count": 3,
     "metadata": {},
     "output_type": "execute_result"
    }
   ],
   "source": [
    "mySer=pd.Series([2,4,6,8],index=[\"i\",\"ii\",\"iii\",\"iv\"])\n",
    "mySer"
   ]
  },
  {
   "cell_type": "code",
   "execution_count": 6,
   "id": "c5ecd4e5-0c4f-4ff9-a493-0015e8ec0314",
   "metadata": {},
   "outputs": [
    {
     "name": "stdout",
     "output_type": "stream",
     "text": [
      "name    [Saqlain, Ali, Saqlain]\n",
      "age                          22\n",
      "dtype: object\n",
      "\n",
      "['Saqlain', 'Ali', 'Saqlain']\n",
      "Saqlain\n"
     ]
    }
   ],
   "source": [
    "data=pd.Series({\"name\":['Saqlain','Ali','Saqlain'],\"age\":22})\n",
    "print(data)\n",
    "print()\n",
    "print(data[\"name\"])#accessing specific index\n",
    "print(data[\"name\"][2]) #accessing specific value"
   ]
  },
  {
   "cell_type": "markdown",
   "id": "a47afd4b-5807-43ec-a51b-1d0e05232b59",
   "metadata": {},
   "source": [
    "**Repeatition of same value**\n",
    "***"
   ]
  },
  {
   "cell_type": "code",
   "execution_count": 5,
   "id": "9c9b7dce-0617-4372-82c3-2c969d6afbae",
   "metadata": {},
   "outputs": [
    {
     "name": "stdout",
     "output_type": "stream",
     "text": [
      "1    2\n",
      "2    2\n",
      "4    2\n",
      "5    2\n",
      "6    2\n",
      "7    2\n",
      "8    2\n",
      "dtype: int64\n"
     ]
    }
   ],
   "source": [
    "n=pd.Series(2,index=[1,2,4,5,6,7,8])\n",
    "\n",
    "print(n)"
   ]
  },
  {
   "cell_type": "markdown",
   "id": "5b8706c5-af53-4b9b-9c90-83026945323c",
   "metadata": {},
   "source": [
    "***"
   ]
  }
 ],
 "metadata": {
  "kernelspec": {
   "display_name": "Python 3 (ipykernel)",
   "language": "python",
   "name": "python3"
  },
  "language_info": {
   "codemirror_mode": {
    "name": "ipython",
    "version": 3
   },
   "file_extension": ".py",
   "mimetype": "text/x-python",
   "name": "python",
   "nbconvert_exporter": "python",
   "pygments_lexer": "ipython3",
   "version": "3.11.7"
  }
 },
 "nbformat": 4,
 "nbformat_minor": 5
}
