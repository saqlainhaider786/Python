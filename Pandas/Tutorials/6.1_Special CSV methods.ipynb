{
 "cells": [
  {
   "cell_type": "code",
   "execution_count": 1,
   "id": "cde6cde3-b7a7-4bc1-9694-619ff62ece80",
   "metadata": {},
   "outputs": [],
   "source": [
    "import pandas as pd"
   ]
  },
  {
   "cell_type": "code",
   "execution_count": 2,
   "id": "f4484f73-a364-46c8-ab96-5e519f9a9650",
   "metadata": {},
   "outputs": [
    {
     "name": "stdout",
     "output_type": "stream",
     "text": [
      "  First_Names Last_Names       Full_Name         Ph_Num\n",
      "0     Saqlain     Haider  Saqlain Haider  92***********\n",
      "1      Haider        Ali      Haider Ali  92***********\n",
      "2       Akbar      Rizvi     Akbar Rizvi  92***********\n",
      "3         Ali     Haider      Ali Haider  92***********\n",
      "4         Ali       Khan        Ali Khan  92***********\n",
      "5      Hassan      Rizvi    Hassan Rizvi  92***********\n",
      "6     Hussain        Ali     Hussain Ali  92***********\n",
      "\n",
      "\n",
      "  First_Names Last_Names       Full_Name         Ph_Num  Ages\n",
      "0     Saqlain     Haider  Saqlain Haider  92***********    24\n",
      "1      Haider        Ali      Haider Ali  92***********    19\n",
      "2       Akbar      Rizvi     Akbar Rizvi  92***********    21\n",
      "3         Ali     Haider      Ali Haider  92***********    20\n",
      "4         Ali       Khan        Ali Khan  92***********    18\n",
      "5      Hassan      Rizvi    Hassan Rizvi  92***********    25\n",
      "6     Hussain        Ali     Hussain Ali  92***********    28\n"
     ]
    }
   ],
   "source": [
    "myData=pd.read_csv(\"PersonsDetails.csv\")\n",
    "print(myData)\n",
    "print()\n",
    "print()\n",
    "\n",
    "ages=[24,19,21,20,18,25,28]\n",
    "\n",
    "myData[\"Ages\"]=ages\n",
    "print(myData)"
   ]
  },
  {
   "cell_type": "markdown",
   "id": "f0555510-3041-4cca-ae60-cc3644d41488",
   "metadata": {},
   "source": [
    "***\n",
    "# Checking starting & ending indexes"
   ]
  },
  {
   "cell_type": "code",
   "execution_count": 3,
   "id": "431e456b-aa0f-4662-95bb-c20d4bf6e8cf",
   "metadata": {},
   "outputs": [
    {
     "data": {
      "text/plain": [
       "RangeIndex(start=0, stop=7, step=1)"
      ]
     },
     "execution_count": 3,
     "metadata": {},
     "output_type": "execute_result"
    }
   ],
   "source": [
    "myData.index #start index is 1, stopping at 4 and each index's jump is by 1"
   ]
  },
  {
   "cell_type": "markdown",
   "id": "8114075b-08b0-4075-a66c-328505c603f2",
   "metadata": {},
   "source": [
    "***\n",
    "# Getting Header Column's names"
   ]
  },
  {
   "cell_type": "code",
   "execution_count": 4,
   "id": "6cfb68bd-d0a4-405f-a983-c41c75f5ff0c",
   "metadata": {},
   "outputs": [
    {
     "data": {
      "text/plain": [
       "Index(['First_Names', 'Last_Names', 'Full_Name', 'Ph_Num', 'Ages'], dtype='object')"
      ]
     },
     "execution_count": 4,
     "metadata": {},
     "output_type": "execute_result"
    }
   ],
   "source": [
    "myData.columns"
   ]
  },
  {
   "cell_type": "markdown",
   "id": "36ad836e-4246-4381-9b54-effb39647a8e",
   "metadata": {},
   "source": [
    "***\n",
    "# Getting some calculations of Numerical column's values"
   ]
  },
  {
   "cell_type": "code",
   "execution_count": 5,
   "id": "b9252b7e-da41-40e5-b200-91eb490cd893",
   "metadata": {},
   "outputs": [
    {
     "data": {
      "text/html": [
       "<div>\n",
       "<style scoped>\n",
       "    .dataframe tbody tr th:only-of-type {\n",
       "        vertical-align: middle;\n",
       "    }\n",
       "\n",
       "    .dataframe tbody tr th {\n",
       "        vertical-align: top;\n",
       "    }\n",
       "\n",
       "    .dataframe thead th {\n",
       "        text-align: right;\n",
       "    }\n",
       "</style>\n",
       "<table border=\"1\" class=\"dataframe\">\n",
       "  <thead>\n",
       "    <tr style=\"text-align: right;\">\n",
       "      <th></th>\n",
       "      <th>Ages</th>\n",
       "    </tr>\n",
       "  </thead>\n",
       "  <tbody>\n",
       "    <tr>\n",
       "      <th>count</th>\n",
       "      <td>7.000000</td>\n",
       "    </tr>\n",
       "    <tr>\n",
       "      <th>mean</th>\n",
       "      <td>22.142857</td>\n",
       "    </tr>\n",
       "    <tr>\n",
       "      <th>std</th>\n",
       "      <td>3.625308</td>\n",
       "    </tr>\n",
       "    <tr>\n",
       "      <th>min</th>\n",
       "      <td>18.000000</td>\n",
       "    </tr>\n",
       "    <tr>\n",
       "      <th>25%</th>\n",
       "      <td>19.500000</td>\n",
       "    </tr>\n",
       "    <tr>\n",
       "      <th>50%</th>\n",
       "      <td>21.000000</td>\n",
       "    </tr>\n",
       "    <tr>\n",
       "      <th>75%</th>\n",
       "      <td>24.500000</td>\n",
       "    </tr>\n",
       "    <tr>\n",
       "      <th>max</th>\n",
       "      <td>28.000000</td>\n",
       "    </tr>\n",
       "  </tbody>\n",
       "</table>\n",
       "</div>"
      ],
      "text/plain": [
       "            Ages\n",
       "count   7.000000\n",
       "mean   22.142857\n",
       "std     3.625308\n",
       "min    18.000000\n",
       "25%    19.500000\n",
       "50%    21.000000\n",
       "75%    24.500000\n",
       "max    28.000000"
      ]
     },
     "execution_count": 5,
     "metadata": {},
     "output_type": "execute_result"
    }
   ],
   "source": [
    "myData.describe()"
   ]
  },
  {
   "cell_type": "markdown",
   "id": "29c610fb-f317-4774-a0d5-05edd235c7aa",
   "metadata": {},
   "source": [
    "***"
   ]
  },
  {
   "cell_type": "markdown",
   "id": "a63424ab-3867-46e9-8669-3207b4972afd",
   "metadata": {},
   "source": [
    "***\n",
    "# Dealing with Rows\n",
    "***"
   ]
  },
  {
   "cell_type": "markdown",
   "id": "45b60617-28db-4423-b2d6-e5ef6e7733c5",
   "metadata": {},
   "source": [
    "***\n",
    "# Getting some data from begging(head) of any data set"
   ]
  },
  {
   "cell_type": "code",
   "execution_count": 6,
   "id": "8fe4dba7-63f1-420a-954f-9d7575b5b0ae",
   "metadata": {},
   "outputs": [
    {
     "data": {
      "text/html": [
       "<div>\n",
       "<style scoped>\n",
       "    .dataframe tbody tr th:only-of-type {\n",
       "        vertical-align: middle;\n",
       "    }\n",
       "\n",
       "    .dataframe tbody tr th {\n",
       "        vertical-align: top;\n",
       "    }\n",
       "\n",
       "    .dataframe thead th {\n",
       "        text-align: right;\n",
       "    }\n",
       "</style>\n",
       "<table border=\"1\" class=\"dataframe\">\n",
       "  <thead>\n",
       "    <tr style=\"text-align: right;\">\n",
       "      <th></th>\n",
       "      <th>First_Names</th>\n",
       "      <th>Last_Names</th>\n",
       "      <th>Full_Name</th>\n",
       "      <th>Ph_Num</th>\n",
       "      <th>Ages</th>\n",
       "    </tr>\n",
       "  </thead>\n",
       "  <tbody>\n",
       "    <tr>\n",
       "      <th>0</th>\n",
       "      <td>Saqlain</td>\n",
       "      <td>Haider</td>\n",
       "      <td>Saqlain Haider</td>\n",
       "      <td>92***********</td>\n",
       "      <td>24</td>\n",
       "    </tr>\n",
       "    <tr>\n",
       "      <th>1</th>\n",
       "      <td>Haider</td>\n",
       "      <td>Ali</td>\n",
       "      <td>Haider Ali</td>\n",
       "      <td>92***********</td>\n",
       "      <td>19</td>\n",
       "    </tr>\n",
       "    <tr>\n",
       "      <th>2</th>\n",
       "      <td>Akbar</td>\n",
       "      <td>Rizvi</td>\n",
       "      <td>Akbar Rizvi</td>\n",
       "      <td>92***********</td>\n",
       "      <td>21</td>\n",
       "    </tr>\n",
       "  </tbody>\n",
       "</table>\n",
       "</div>"
      ],
      "text/plain": [
       "  First_Names Last_Names       Full_Name         Ph_Num  Ages\n",
       "0     Saqlain     Haider  Saqlain Haider  92***********    24\n",
       "1      Haider        Ali      Haider Ali  92***********    19\n",
       "2       Akbar      Rizvi     Akbar Rizvi  92***********    21"
      ]
     },
     "execution_count": 6,
     "metadata": {},
     "output_type": "execute_result"
    }
   ],
   "source": [
    "myData.head(3)#by default it returns first 5 rows but we can also set no. of rows"
   ]
  },
  {
   "cell_type": "markdown",
   "id": "0af1206a-8639-4c70-8777-751067bb817e",
   "metadata": {},
   "source": [
    "***\n",
    "# Getting some data from ending(tail) of any data set."
   ]
  },
  {
   "cell_type": "code",
   "execution_count": 7,
   "id": "31c1cbdd-d6dd-4617-bf24-f89c6d5d3cfa",
   "metadata": {},
   "outputs": [
    {
     "data": {
      "text/html": [
       "<div>\n",
       "<style scoped>\n",
       "    .dataframe tbody tr th:only-of-type {\n",
       "        vertical-align: middle;\n",
       "    }\n",
       "\n",
       "    .dataframe tbody tr th {\n",
       "        vertical-align: top;\n",
       "    }\n",
       "\n",
       "    .dataframe thead th {\n",
       "        text-align: right;\n",
       "    }\n",
       "</style>\n",
       "<table border=\"1\" class=\"dataframe\">\n",
       "  <thead>\n",
       "    <tr style=\"text-align: right;\">\n",
       "      <th></th>\n",
       "      <th>First_Names</th>\n",
       "      <th>Last_Names</th>\n",
       "      <th>Full_Name</th>\n",
       "      <th>Ph_Num</th>\n",
       "      <th>Ages</th>\n",
       "    </tr>\n",
       "  </thead>\n",
       "  <tbody>\n",
       "    <tr>\n",
       "      <th>5</th>\n",
       "      <td>Hassan</td>\n",
       "      <td>Rizvi</td>\n",
       "      <td>Hassan Rizvi</td>\n",
       "      <td>92***********</td>\n",
       "      <td>25</td>\n",
       "    </tr>\n",
       "    <tr>\n",
       "      <th>6</th>\n",
       "      <td>Hussain</td>\n",
       "      <td>Ali</td>\n",
       "      <td>Hussain Ali</td>\n",
       "      <td>92***********</td>\n",
       "      <td>28</td>\n",
       "    </tr>\n",
       "  </tbody>\n",
       "</table>\n",
       "</div>"
      ],
      "text/plain": [
       "  First_Names Last_Names     Full_Name         Ph_Num  Ages\n",
       "5      Hassan      Rizvi  Hassan Rizvi  92***********    25\n",
       "6     Hussain        Ali   Hussain Ali  92***********    28"
      ]
     },
     "execution_count": 7,
     "metadata": {},
     "output_type": "execute_result"
    }
   ],
   "source": [
    "myData.tail(2)#by default it returns last 5 rows but we can also set no. of rows"
   ]
  },
  {
   "cell_type": "markdown",
   "id": "a3cb8ff8-00d0-41a5-9336-5f05755d38a3",
   "metadata": {},
   "source": [
    "***\n",
    "# Getting data from random rows"
   ]
  },
  {
   "cell_type": "markdown",
   "id": "27f9fc94-21d0-4c89-9d34-af3535f2802d",
   "metadata": {},
   "source": [
    "***"
   ]
  },
  {
   "cell_type": "code",
   "execution_count": 8,
   "id": "e3e3c8bc-a1c3-4bdd-9d6c-7a80420cd610",
   "metadata": {},
   "outputs": [
    {
     "data": {
      "text/html": [
       "<div>\n",
       "<style scoped>\n",
       "    .dataframe tbody tr th:only-of-type {\n",
       "        vertical-align: middle;\n",
       "    }\n",
       "\n",
       "    .dataframe tbody tr th {\n",
       "        vertical-align: top;\n",
       "    }\n",
       "\n",
       "    .dataframe thead th {\n",
       "        text-align: right;\n",
       "    }\n",
       "</style>\n",
       "<table border=\"1\" class=\"dataframe\">\n",
       "  <thead>\n",
       "    <tr style=\"text-align: right;\">\n",
       "      <th></th>\n",
       "      <th>First_Names</th>\n",
       "      <th>Last_Names</th>\n",
       "      <th>Full_Name</th>\n",
       "      <th>Ph_Num</th>\n",
       "      <th>Ages</th>\n",
       "    </tr>\n",
       "  </thead>\n",
       "  <tbody>\n",
       "    <tr>\n",
       "      <th>3</th>\n",
       "      <td>Ali</td>\n",
       "      <td>Haider</td>\n",
       "      <td>Ali Haider</td>\n",
       "      <td>92***********</td>\n",
       "      <td>20</td>\n",
       "    </tr>\n",
       "    <tr>\n",
       "      <th>4</th>\n",
       "      <td>Ali</td>\n",
       "      <td>Khan</td>\n",
       "      <td>Ali Khan</td>\n",
       "      <td>92***********</td>\n",
       "      <td>18</td>\n",
       "    </tr>\n",
       "    <tr>\n",
       "      <th>5</th>\n",
       "      <td>Hassan</td>\n",
       "      <td>Rizvi</td>\n",
       "      <td>Hassan Rizvi</td>\n",
       "      <td>92***********</td>\n",
       "      <td>25</td>\n",
       "    </tr>\n",
       "    <tr>\n",
       "      <th>6</th>\n",
       "      <td>Hussain</td>\n",
       "      <td>Ali</td>\n",
       "      <td>Hussain Ali</td>\n",
       "      <td>92***********</td>\n",
       "      <td>28</td>\n",
       "    </tr>\n",
       "  </tbody>\n",
       "</table>\n",
       "</div>"
      ],
      "text/plain": [
       "  First_Names Last_Names     Full_Name         Ph_Num  Ages\n",
       "3         Ali     Haider    Ali Haider  92***********    20\n",
       "4         Ali       Khan      Ali Khan  92***********    18\n",
       "5      Hassan      Rizvi  Hassan Rizvi  92***********    25\n",
       "6     Hussain        Ali   Hussain Ali  92***********    28"
      ]
     },
     "execution_count": 8,
     "metadata": {},
     "output_type": "execute_result"
    }
   ],
   "source": [
    "# this thing works same as slicing\n",
    "rndmData=myData[3:7] # returns row-3 to row-6 data.\n",
    "\n",
    "rndmData"
   ]
  },
  {
   "cell_type": "markdown",
   "id": "32635597-65ce-47ee-9acf-30f6e2f0a65b",
   "metadata": {},
   "source": [
    "***\n",
    "# Making numpy array of pandas DataFrame"
   ]
  },
  {
   "cell_type": "code",
   "execution_count": 9,
   "id": "55292c7e-8f89-4fe6-a8a3-10f2bf7a31ef",
   "metadata": {},
   "outputs": [],
   "source": [
    "import numpy as np"
   ]
  },
  {
   "cell_type": "code",
   "execution_count": 10,
   "id": "68495be4-2913-4d27-a908-35d85d576323",
   "metadata": {},
   "outputs": [
    {
     "name": "stdout",
     "output_type": "stream",
     "text": [
      "  First_Names Last_Names     Full_Name         Ph_Num  Ages\n",
      "3         Ali     Haider    Ali Haider  92***********    20\n",
      "4         Ali       Khan      Ali Khan  92***********    18\n",
      "5      Hassan      Rizvi  Hassan Rizvi  92***********    25\n",
      "6     Hussain        Ali   Hussain Ali  92***********    28\n",
      "\n",
      "[['Ali' 'Haider' 'Ali Haider' '92***********' 20]\n",
      " ['Ali' 'Khan' 'Ali Khan' '92***********' 18]\n",
      " ['Hassan' 'Rizvi' 'Hassan Rizvi' '92***********' 25]\n",
      " ['Hussain' 'Ali' 'Hussain Ali' '92***********' 28]]\n"
     ]
    }
   ],
   "source": [
    "print(rndmData)\n",
    "print()\n",
    "nData=np.asarray(rndmData)# asarray converts a pandas DataFrame into Numpy array\n",
    "print(nData)"
   ]
  },
  {
   "cell_type": "markdown",
   "id": "cc1658e2-6531-4bc1-9c3e-37e6b65cd8e6",
   "metadata": {},
   "source": [
    "***\n",
    "# Sorting Columns "
   ]
  },
  {
   "cell_type": "code",
   "execution_count": 11,
   "id": "96d95b5e-abbd-4c66-8e65-e9846fe7d8fc",
   "metadata": {},
   "outputs": [
    {
     "data": {
      "text/html": [
       "<div>\n",
       "<style scoped>\n",
       "    .dataframe tbody tr th:only-of-type {\n",
       "        vertical-align: middle;\n",
       "    }\n",
       "\n",
       "    .dataframe tbody tr th {\n",
       "        vertical-align: top;\n",
       "    }\n",
       "\n",
       "    .dataframe thead th {\n",
       "        text-align: right;\n",
       "    }\n",
       "</style>\n",
       "<table border=\"1\" class=\"dataframe\">\n",
       "  <thead>\n",
       "    <tr style=\"text-align: right;\">\n",
       "      <th></th>\n",
       "      <th>First_Names</th>\n",
       "      <th>Last_Names</th>\n",
       "      <th>Full_Name</th>\n",
       "      <th>Ph_Num</th>\n",
       "      <th>Ages</th>\n",
       "    </tr>\n",
       "  </thead>\n",
       "  <tbody>\n",
       "    <tr>\n",
       "      <th>6</th>\n",
       "      <td>Hussain</td>\n",
       "      <td>Ali</td>\n",
       "      <td>Hussain Ali</td>\n",
       "      <td>92***********</td>\n",
       "      <td>28</td>\n",
       "    </tr>\n",
       "    <tr>\n",
       "      <th>5</th>\n",
       "      <td>Hassan</td>\n",
       "      <td>Rizvi</td>\n",
       "      <td>Hassan Rizvi</td>\n",
       "      <td>92***********</td>\n",
       "      <td>25</td>\n",
       "    </tr>\n",
       "    <tr>\n",
       "      <th>4</th>\n",
       "      <td>Ali</td>\n",
       "      <td>Khan</td>\n",
       "      <td>Ali Khan</td>\n",
       "      <td>92***********</td>\n",
       "      <td>18</td>\n",
       "    </tr>\n",
       "    <tr>\n",
       "      <th>3</th>\n",
       "      <td>Ali</td>\n",
       "      <td>Haider</td>\n",
       "      <td>Ali Haider</td>\n",
       "      <td>92***********</td>\n",
       "      <td>20</td>\n",
       "    </tr>\n",
       "    <tr>\n",
       "      <th>2</th>\n",
       "      <td>Akbar</td>\n",
       "      <td>Rizvi</td>\n",
       "      <td>Akbar Rizvi</td>\n",
       "      <td>92***********</td>\n",
       "      <td>21</td>\n",
       "    </tr>\n",
       "    <tr>\n",
       "      <th>1</th>\n",
       "      <td>Haider</td>\n",
       "      <td>Ali</td>\n",
       "      <td>Haider Ali</td>\n",
       "      <td>92***********</td>\n",
       "      <td>19</td>\n",
       "    </tr>\n",
       "    <tr>\n",
       "      <th>0</th>\n",
       "      <td>Saqlain</td>\n",
       "      <td>Haider</td>\n",
       "      <td>Saqlain Haider</td>\n",
       "      <td>92***********</td>\n",
       "      <td>24</td>\n",
       "    </tr>\n",
       "  </tbody>\n",
       "</table>\n",
       "</div>"
      ],
      "text/plain": [
       "  First_Names Last_Names       Full_Name         Ph_Num  Ages\n",
       "6     Hussain        Ali     Hussain Ali  92***********    28\n",
       "5      Hassan      Rizvi    Hassan Rizvi  92***********    25\n",
       "4         Ali       Khan        Ali Khan  92***********    18\n",
       "3         Ali     Haider      Ali Haider  92***********    20\n",
       "2       Akbar      Rizvi     Akbar Rizvi  92***********    21\n",
       "1      Haider        Ali      Haider Ali  92***********    19\n",
       "0     Saqlain     Haider  Saqlain Haider  92***********    24"
      ]
     },
     "execution_count": 11,
     "metadata": {},
     "output_type": "execute_result"
    }
   ],
   "source": [
    "myData.sort_index(axis=0,ascending=False)\n"
   ]
  },
  {
   "cell_type": "markdown",
   "id": "2a05fc7e-a822-494c-83ad-a8a1b23ef0cd",
   "metadata": {},
   "source": [
    "***"
   ]
  },
  {
   "cell_type": "markdown",
   "id": "972c2de5-52cf-4dba-8fb7-9c24a7bd4ce2",
   "metadata": {},
   "source": [
    "***\n",
    "# Manipulation of data within DataFrame"
   ]
  },
  {
   "cell_type": "code",
   "execution_count": 12,
   "id": "f6bbf255-3518-48ac-a7c8-246e61527682",
   "metadata": {},
   "outputs": [
    {
     "name": "stdout",
     "output_type": "stream",
     "text": [
      "  First_Names Last_Names       Full_Name         Ph_Num  Ages\n",
      "0     Saqlain     Haider  Saqlain Haider  92***********    24\n",
      "1      Haider        Ali      Haider Ali  92***********    19\n",
      "2       Akbar      Rizvi     Akbar Rizvi  92***********    21\n",
      "3         Ali     Haider      Ali Haider  92***********    20\n",
      "4         Ali       Khan        Ali Khan  92***********    18\n",
      "5      Hassan      Rizvi    Hassan Rizvi  92***********    25\n",
      "6     Hussain        Ali     Hussain Ali  92***********    28\n",
      "\n",
      "24\n"
     ]
    }
   ],
   "source": [
    "print(myData)\n",
    "print()\n",
    "print(myData.loc[0,\"Ages\"]) # loc[rowIndex,col_Index/Name] is used to access specific cell"
   ]
  },
  {
   "cell_type": "code",
   "execution_count": 13,
   "id": "05f31492-7409-40a7-b24c-8a73fd2cb11c",
   "metadata": {},
   "outputs": [
    {
     "name": "stdout",
     "output_type": "stream",
     "text": [
      "  First_Names Last_Names       Full_Name         Ph_Num  Ages\n",
      "0     Saqlain     Haider  Saqlain Haider  92***********    24\n",
      "1      Haider        Ali      Haider Ali  92***********    19\n",
      "2       Akbar      Rizvi     Akbar Rizvi  92***********    21\n",
      "3         Ali     Haider      Ali Haider  92***********    20\n",
      "4         Ali       Khan        Ali Khan  92***********    18\n",
      "5      Hassan      Rizvi    Hassan Rizvi  92***********    25\n",
      "6     Hussain        Ali     Hussain Ali  92***********    28\n",
      "\n",
      "    First_Names Last_Names            Full_Name         Ph_Num  Ages\n",
      "0  Syed Saqlain     Haider  Syed Saqlain Haider  92***********    23\n",
      "1        Haider        Ali           Haider Ali  92***********    19\n",
      "2         Akbar      Rizvi          Akbar Rizvi  92***********    21\n",
      "3           Ali     Haider           Ali Haider  92***********    20\n",
      "4           Ali       Khan             Ali Khan  92***********    18\n",
      "5   Syed Hassan      Rizvi    Syed Hassan Rizvi  92***********    28\n",
      "6       Hussain        Ali          Hussain Ali  92***********    28\n"
     ]
    }
   ],
   "source": [
    "print(myData)\n",
    "print()\n",
    "myData.loc[0,\"First_Names\"]=\"Syed Saqlain\"\n",
    "myData.loc[0,\"Full_Name\"]=\"Syed Saqlain Haider\"\n",
    "myData.loc[0,\"Ages\"]=23\n",
    "myData.loc[5,\"First_Names\"]=\"Syed Hassan\"\n",
    "myData.loc[5,\"Full_Name\"]=\"Syed Hassan Rizvi\"\n",
    "myData.loc[5,\"Ages\"]=28\n",
    "print(myData)"
   ]
  },
  {
   "cell_type": "markdown",
   "id": "90325be6-72bb-46f5-bb92-221188547879",
   "metadata": {},
   "source": [
    "***\n",
    "# Dealing with Rows & Cols\n",
    "***"
   ]
  },
  {
   "cell_type": "code",
   "execution_count": 25,
   "id": "916c91fd-ea08-43e7-a5f9-f5c594845f13",
   "metadata": {},
   "outputs": [
    {
     "data": {
      "text/html": [
       "<div>\n",
       "<style scoped>\n",
       "    .dataframe tbody tr th:only-of-type {\n",
       "        vertical-align: middle;\n",
       "    }\n",
       "\n",
       "    .dataframe tbody tr th {\n",
       "        vertical-align: top;\n",
       "    }\n",
       "\n",
       "    .dataframe thead th {\n",
       "        text-align: right;\n",
       "    }\n",
       "</style>\n",
       "<table border=\"1\" class=\"dataframe\">\n",
       "  <thead>\n",
       "    <tr style=\"text-align: right;\">\n",
       "      <th></th>\n",
       "      <th>First_Names</th>\n",
       "      <th>Last_Names</th>\n",
       "      <th>Full_Name</th>\n",
       "      <th>Ph_Num</th>\n",
       "      <th>Ages</th>\n",
       "    </tr>\n",
       "  </thead>\n",
       "  <tbody>\n",
       "    <tr>\n",
       "      <th>0</th>\n",
       "      <td>Syed Saqlain</td>\n",
       "      <td>Haider</td>\n",
       "      <td>Syed Saqlain Haider</td>\n",
       "      <td>92***********</td>\n",
       "      <td>23</td>\n",
       "    </tr>\n",
       "  </tbody>\n",
       "</table>\n",
       "</div>"
      ],
      "text/plain": [
       "    First_Names Last_Names            Full_Name         Ph_Num  Ages\n",
       "0  Syed Saqlain     Haider  Syed Saqlain Haider  92***********    23"
      ]
     },
     "execution_count": 25,
     "metadata": {},
     "output_type": "execute_result"
    }
   ],
   "source": [
    "myData.loc[[0],:]"
   ]
  },
  {
   "cell_type": "markdown",
   "id": "34b985d1-4322-4161-9a76-f2236cf6a4cc",
   "metadata": {},
   "source": [
    "***\n",
    "**Specific cols and all rows**"
   ]
  },
  {
   "cell_type": "code",
   "execution_count": 14,
   "id": "f914d69a-3e4b-46da-9396-3fa55bc5305d",
   "metadata": {},
   "outputs": [
    {
     "name": "stdout",
     "output_type": "stream",
     "text": [
      "             Full_Name  Ages\n",
      "0  Syed Saqlain Haider    23\n",
      "1           Haider Ali    19\n",
      "2          Akbar Rizvi    21\n",
      "3           Ali Haider    20\n",
      "4             Ali Khan    18\n",
      "5    Syed Hassan Rizvi    28\n",
      "6          Hussain Ali    28\n"
     ]
    }
   ],
   "source": [
    "allData=myData.loc[:,[\"Full_Name\",\"Ages\"]] # loc[ : ,[columns_index/names]]\n",
    "print(allData)"
   ]
  },
  {
   "cell_type": "markdown",
   "id": "d80822d5-3525-43e3-9a67-7ee1791bda32",
   "metadata": {},
   "source": [
    "***\n",
    "**All cols and specific rows**"
   ]
  },
  {
   "cell_type": "code",
   "execution_count": 15,
   "id": "6986bc27-dec8-48f6-9e4a-eee2b7467354",
   "metadata": {},
   "outputs": [
    {
     "name": "stdout",
     "output_type": "stream",
     "text": [
      "    First_Names Last_Names            Full_Name         Ph_Num  Ages\n",
      "0  Syed Saqlain     Haider  Syed Saqlain Haider  92***********    23\n",
      "5   Syed Hassan      Rizvi    Syed Hassan Rizvi  92***********    28\n"
     ]
    }
   ],
   "source": [
    "allData=myData.loc[[0,5],:] # loc[ : ,[columns_index/names]]\n",
    "print(allData)"
   ]
  },
  {
   "cell_type": "markdown",
   "id": "1003eca3-d49a-4828-8279-bd75556f1a9c",
   "metadata": {},
   "source": [
    "***\n",
    "**Specific cols and Specific rows**"
   ]
  },
  {
   "cell_type": "code",
   "execution_count": 16,
   "id": "6902272e-5d94-4475-aee6-f2436aac8915",
   "metadata": {},
   "outputs": [
    {
     "name": "stdout",
     "output_type": "stream",
     "text": [
      "             Full_Name  Ages\n",
      "0  Syed Saqlain Haider    23\n",
      "5    Syed Hassan Rizvi    28\n"
     ]
    }
   ],
   "source": [
    "allData=myData.loc[[0,5],[\"Full_Name\",\"Ages\"]] # loc[ [rows_index(s)] ,[columns_index/names]]\n",
    "print(allData)"
   ]
  },
  {
   "cell_type": "markdown",
   "id": "e42bd420-da7e-45b6-9d25-df970286f725",
   "metadata": {},
   "source": [
    "***"
   ]
  },
  {
   "cell_type": "markdown",
   "id": "a57fc049-6faa-4a72-be4c-8a319795a618",
   "metadata": {},
   "source": [
    "# Deletion of specific Col & Row"
   ]
  },
  {
   "cell_type": "code",
   "execution_count": 17,
   "id": "f19f9f1e-dcb7-4778-91f2-f8d6a30405e1",
   "metadata": {},
   "outputs": [
    {
     "name": "stdout",
     "output_type": "stream",
     "text": [
      "    First_Names Last_Names            Full_Name         Ph_Num  Ages\n",
      "0  Syed Saqlain     Haider  Syed Saqlain Haider  92***********    23\n",
      "1        Haider        Ali           Haider Ali  92***********    19\n",
      "2         Akbar      Rizvi          Akbar Rizvi  92***********    21\n",
      "3           Ali     Haider           Ali Haider  92***********    20\n",
      "4           Ali       Khan             Ali Khan  92***********    18\n",
      "5   Syed Hassan      Rizvi    Syed Hassan Rizvi  92***********    28\n",
      "6       Hussain        Ali          Hussain Ali  92***********    28\n",
      "\n",
      "\n",
      "    First_Names Last_Names            Full_Name         Ph_Num  Ages\n",
      "0  Syed Saqlain     Haider  Syed Saqlain Haider  92***********    23\n",
      "1        Haider        Ali           Haider Ali  92***********    19\n",
      "2         Akbar      Rizvi          Akbar Rizvi  92***********    21\n",
      "3           Ali     Haider           Ali Haider  92***********    20\n",
      "5   Syed Hassan      Rizvi    Syed Hassan Rizvi  92***********    28\n",
      "6       Hussain        Ali          Hussain Ali  92***********    28\n"
     ]
    }
   ],
   "source": [
    "print(myData)\n",
    "print()\n",
    "print()\n",
    "\n",
    "print(myData.drop(4,axis=0))"
   ]
  },
  {
   "cell_type": "markdown",
   "id": "424d0c2d-8c23-4ce7-b89a-f4ef47d8c846",
   "metadata": {},
   "source": [
    "***"
   ]
  }
 ],
 "metadata": {
  "kernelspec": {
   "display_name": "Python 3 (ipykernel)",
   "language": "python",
   "name": "python3"
  },
  "language_info": {
   "codemirror_mode": {
    "name": "ipython",
    "version": 3
   },
   "file_extension": ".py",
   "mimetype": "text/x-python",
   "name": "python",
   "nbconvert_exporter": "python",
   "pygments_lexer": "ipython3",
   "version": "3.12.7"
  }
 },
 "nbformat": 4,
 "nbformat_minor": 5
}
