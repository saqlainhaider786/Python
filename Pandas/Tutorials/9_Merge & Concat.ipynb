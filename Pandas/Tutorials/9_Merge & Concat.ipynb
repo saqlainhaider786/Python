{
 "cells": [
  {
   "cell_type": "code",
   "execution_count": 1,
   "id": "525b5663-3324-4dfe-8d15-35dbb6e21029",
   "metadata": {},
   "outputs": [],
   "source": [
    "import pandas as pd"
   ]
  },
  {
   "cell_type": "code",
   "execution_count": 2,
   "id": "998a6696-c542-4a49-ab7e-c9bfdfb35303",
   "metadata": {},
   "outputs": [],
   "source": [
    "# val=pd.read_csv(\"file:///D:\\\\Python\\\\Data Sets\\\\Financial Allocations.csv\")"
   ]
  },
  {
   "cell_type": "code",
   "execution_count": 3,
   "id": "118b9d13-6aa9-4158-a3da-e2f95bfd5aa1",
   "metadata": {},
   "outputs": [],
   "source": [
    "# val=val.head(20)\n",
    "# val"
   ]
  },
  {
   "cell_type": "markdown",
   "id": "609f1482-e736-4c6c-a31a-a128239725ef",
   "metadata": {},
   "source": [
    "***\n",
    "# Merge"
   ]
  },
  {
   "cell_type": "markdown",
   "id": "fe51da8c-7b31-47ba-a9ba-597527f0b36f",
   "metadata": {},
   "source": [
    "***==> It is used to Join two DataFrames***"
   ]
  },
  {
   "cell_type": "markdown",
   "id": "e072e96f-88fe-49c7-b5f3-cbb33e87d09e",
   "metadata": {},
   "source": [
    "==> **It adds data(new_cols) next to existing rows.**"
   ]
  },
  {
   "cell_type": "markdown",
   "id": "99b1225a-53f0-463c-bc6c-714732b86470",
   "metadata": {},
   "source": [
    "==>**It only works when both data sets have atleast one same col_name.**"
   ]
  },
  {
   "cell_type": "markdown",
   "id": "9b8ddccc-c93f-4b05-b310-71ff0095a83b",
   "metadata": {},
   "source": [
    "**==>merge(df1,df2,on=\"same_col\")**\n",
    "***"
   ]
  },
  {
   "cell_type": "code",
   "execution_count": 60,
   "id": "d148f7c4-33d8-4fb6-96e9-b11a1041cec2",
   "metadata": {},
   "outputs": [],
   "source": [
    "df1=pd.DataFrame({\"A\":[1,2,3,4],\"B\":[5,6,7,8]})\n",
    "df2=pd.DataFrame({\"A\":[1,2,3,4],\"C\":[15,26,37,48]})"
   ]
  },
  {
   "cell_type": "markdown",
   "id": "b10832be-2605-44c9-98b7-673129f56702",
   "metadata": {},
   "source": [
    "***\n",
    "# DataFrames with different orders"
   ]
  },
  {
   "cell_type": "code",
   "execution_count": 5,
   "id": "dc1cb435-86a3-443e-8666-b27992a55153",
   "metadata": {},
   "outputs": [],
   "source": [
    "# pd.merge(df1,df2,on=\"A\")"
   ]
  },
  {
   "cell_type": "code",
   "execution_count": 61,
   "id": "734b1863-4fae-4ace-9353-53cf1f749e73",
   "metadata": {},
   "outputs": [
    {
     "data": {
      "text/html": [
       "<div>\n",
       "<style scoped>\n",
       "    .dataframe tbody tr th:only-of-type {\n",
       "        vertical-align: middle;\n",
       "    }\n",
       "\n",
       "    .dataframe tbody tr th {\n",
       "        vertical-align: top;\n",
       "    }\n",
       "\n",
       "    .dataframe thead th {\n",
       "        text-align: right;\n",
       "    }\n",
       "</style>\n",
       "<table border=\"1\" class=\"dataframe\">\n",
       "  <thead>\n",
       "    <tr style=\"text-align: right;\">\n",
       "      <th></th>\n",
       "      <th>A</th>\n",
       "      <th>B</th>\n",
       "      <th>C</th>\n",
       "    </tr>\n",
       "  </thead>\n",
       "  <tbody>\n",
       "    <tr>\n",
       "      <th>0</th>\n",
       "      <td>1</td>\n",
       "      <td>5</td>\n",
       "      <td>15</td>\n",
       "    </tr>\n",
       "    <tr>\n",
       "      <th>1</th>\n",
       "      <td>2</td>\n",
       "      <td>6</td>\n",
       "      <td>26</td>\n",
       "    </tr>\n",
       "    <tr>\n",
       "      <th>2</th>\n",
       "      <td>3</td>\n",
       "      <td>7</td>\n",
       "      <td>37</td>\n",
       "    </tr>\n",
       "    <tr>\n",
       "      <th>3</th>\n",
       "      <td>4</td>\n",
       "      <td>8</td>\n",
       "      <td>48</td>\n",
       "    </tr>\n",
       "  </tbody>\n",
       "</table>\n",
       "</div>"
      ],
      "text/plain": [
       "   A  B   C\n",
       "0  1  5  15\n",
       "1  2  6  26\n",
       "2  3  7  37\n",
       "3  4  8  48"
      ]
     },
     "execution_count": 61,
     "metadata": {},
     "output_type": "execute_result"
    }
   ],
   "source": [
    "pd.merge(df1,df2)"
   ]
  },
  {
   "cell_type": "markdown",
   "id": "81a5af24-bb0b-4558-b3ee-2f61ef9a9b9e",
   "metadata": {},
   "source": [
    "***\n",
    "# DataFrames with different orders"
   ]
  },
  {
   "cell_type": "code",
   "execution_count": 7,
   "id": "ffa69657-1c04-425c-841b-d1a95168e382",
   "metadata": {},
   "outputs": [
    {
     "data": {
      "text/html": [
       "<div>\n",
       "<style scoped>\n",
       "    .dataframe tbody tr th:only-of-type {\n",
       "        vertical-align: middle;\n",
       "    }\n",
       "\n",
       "    .dataframe tbody tr th {\n",
       "        vertical-align: top;\n",
       "    }\n",
       "\n",
       "    .dataframe thead th {\n",
       "        text-align: right;\n",
       "    }\n",
       "</style>\n",
       "<table border=\"1\" class=\"dataframe\">\n",
       "  <thead>\n",
       "    <tr style=\"text-align: right;\">\n",
       "      <th></th>\n",
       "      <th>A</th>\n",
       "      <th>Name</th>\n",
       "      <th>Age</th>\n",
       "    </tr>\n",
       "  </thead>\n",
       "  <tbody>\n",
       "    <tr>\n",
       "      <th>0</th>\n",
       "      <td>1</td>\n",
       "      <td>Ali</td>\n",
       "      <td>21</td>\n",
       "    </tr>\n",
       "    <tr>\n",
       "      <th>1</th>\n",
       "      <td>2</td>\n",
       "      <td>Hassan</td>\n",
       "      <td>22</td>\n",
       "    </tr>\n",
       "    <tr>\n",
       "      <th>2</th>\n",
       "      <td>4</td>\n",
       "      <td>Hasnain</td>\n",
       "      <td>25</td>\n",
       "    </tr>\n",
       "  </tbody>\n",
       "</table>\n",
       "</div>"
      ],
      "text/plain": [
       "   A     Name  Age\n",
       "0  1      Ali   21\n",
       "1  2   Hassan   22\n",
       "2  4  Hasnain   25"
      ]
     },
     "execution_count": 7,
     "metadata": {},
     "output_type": "execute_result"
    }
   ],
   "source": [
    "val1=pd.DataFrame({\"A\":[1,2,3,4],\"Name\":[\"Ali\",\"Hassan\",\"Hussain\",\"Hasnain\"]})\n",
    "val2=pd.DataFrame({\"A\":[1,2,4,5],\"Age\":[21,22,25,24]})\n",
    "\n",
    "pd.merge(val1,val2)"
   ]
  },
  {
   "cell_type": "markdown",
   "id": "30255153-3273-450e-b3d8-74bf10b76110",
   "metadata": {},
   "source": [
    "**Merging with \"how\"**"
   ]
  },
  {
   "cell_type": "markdown",
   "id": "c1984a21-a1e2-40a9-a68e-53f0b169e3bf",
   "metadata": {},
   "source": [
    "***\n",
    "***how with left***"
   ]
  },
  {
   "cell_type": "code",
   "execution_count": 8,
   "id": "b509eb98-f3a7-48e1-8f09-55420b19112d",
   "metadata": {},
   "outputs": [
    {
     "name": "stdout",
     "output_type": "stream",
     "text": [
      "   A     Name\n",
      "0  1      Ali\n",
      "1  2   Hassan\n",
      "2  3  Hussain\n",
      "3  4  Hasnain\n",
      "\n",
      "   A  Age\n",
      "0  1   21\n",
      "1  2   22\n",
      "2  4   25\n",
      "3  5   24\n",
      "\n",
      "   A     Name   Age\n",
      "0  1      Ali  21.0\n",
      "1  2   Hassan  22.0\n",
      "2  3  Hussain   NaN\n",
      "3  4  Hasnain  25.0\n"
     ]
    }
   ],
   "source": [
    "print(val1)\n",
    "print()\n",
    "print(val2)\n",
    "print()\n",
    "print(pd.merge(val1,val2,how=\"left\"))"
   ]
  },
  {
   "cell_type": "markdown",
   "id": "01e97b35-e99d-4744-8f3c-ae83293c138c",
   "metadata": {},
   "source": [
    "***\n",
    "***how with right***"
   ]
  },
  {
   "cell_type": "code",
   "execution_count": 9,
   "id": "55a73ef2-c0e4-40fe-82b9-31b875849d79",
   "metadata": {},
   "outputs": [
    {
     "name": "stdout",
     "output_type": "stream",
     "text": [
      "   A     Name\n",
      "0  1      Ali\n",
      "1  2   Hassan\n",
      "2  3  Hussain\n",
      "3  4  Hasnain\n",
      "\n",
      "   A  Age\n",
      "0  1   21\n",
      "1  2   22\n",
      "2  4   25\n",
      "3  5   24\n",
      "\n",
      "   A     Name  Age\n",
      "0  1      Ali   21\n",
      "1  2   Hassan   22\n",
      "2  4  Hasnain   25\n",
      "3  5      NaN   24\n"
     ]
    }
   ],
   "source": [
    "print(val1)\n",
    "print()\n",
    "print(val2)\n",
    "print()\n",
    "print(pd.merge(val1,val2,how=\"right\"))"
   ]
  },
  {
   "cell_type": "markdown",
   "id": "5beb5ff5-6f08-4d0d-b6db-102e9cbb18c2",
   "metadata": {},
   "source": [
    "***\n",
    "***how with outer***"
   ]
  },
  {
   "cell_type": "code",
   "execution_count": 10,
   "id": "8a12c0ee-b343-433e-8dbe-7d6e4a48c943",
   "metadata": {},
   "outputs": [
    {
     "name": "stdout",
     "output_type": "stream",
     "text": [
      "   A     Name\n",
      "0  1      Ali\n",
      "1  2   Hassan\n",
      "2  3  Hussain\n",
      "3  4  Hasnain\n",
      "\n",
      "   A  Age\n",
      "0  1   21\n",
      "1  2   22\n",
      "2  4   25\n",
      "3  5   24\n",
      "\n",
      "   A     Name   Age\n",
      "0  1      Ali  21.0\n",
      "1  2   Hassan  22.0\n",
      "2  3  Hussain   NaN\n",
      "3  4  Hasnain  25.0\n",
      "4  5      NaN  24.0\n"
     ]
    }
   ],
   "source": [
    "print(val1)\n",
    "print()\n",
    "print(val2)\n",
    "print()\n",
    "print(pd.merge(val1,val2,how=\"outer\"))"
   ]
  },
  {
   "cell_type": "markdown",
   "id": "ed02dd24-fa72-4f4c-9689-855207288dd9",
   "metadata": {},
   "source": [
    "***\n",
    "Merging with indicator : \n",
    "***it lets us know about relation of data with dataframe***"
   ]
  },
  {
   "cell_type": "code",
   "execution_count": 14,
   "id": "bfa8c628-f9a4-4671-81a3-f6ffc98bd0dd",
   "metadata": {},
   "outputs": [
    {
     "name": "stdout",
     "output_type": "stream",
     "text": [
      "   A     Name   Age      _merge\n",
      "0  1      Ali  21.0        both\n",
      "1  2   Hassan  22.0        both\n",
      "2  3  Hussain   NaN   left_only\n",
      "3  4  Hasnain  25.0        both\n",
      "4  5      NaN  24.0  right_only\n"
     ]
    }
   ],
   "source": [
    "print(pd.merge(val1,val2,how=\"outer\",indicator=True))"
   ]
  },
  {
   "cell_type": "markdown",
   "id": "33da4a2a-2c86-4f9e-b822-5a915a2cc56c",
   "metadata": {},
   "source": [
    "***\n",
    "# Data sets with same Column_Names"
   ]
  },
  {
   "cell_type": "code",
   "execution_count": 39,
   "id": "2d3f03f1-85a5-42a6-a433-fe50b83dd642",
   "metadata": {},
   "outputs": [
    {
     "data": {
      "text/html": [
       "<div>\n",
       "<style scoped>\n",
       "    .dataframe tbody tr th:only-of-type {\n",
       "        vertical-align: middle;\n",
       "    }\n",
       "\n",
       "    .dataframe tbody tr th {\n",
       "        vertical-align: top;\n",
       "    }\n",
       "\n",
       "    .dataframe thead th {\n",
       "        text-align: right;\n",
       "    }\n",
       "</style>\n",
       "<table border=\"1\" class=\"dataframe\">\n",
       "  <thead>\n",
       "    <tr style=\"text-align: right;\">\n",
       "      <th></th>\n",
       "      <th>A_x</th>\n",
       "      <th>B_x</th>\n",
       "      <th>A_y</th>\n",
       "      <th>B_y</th>\n",
       "    </tr>\n",
       "  </thead>\n",
       "  <tbody>\n",
       "    <tr>\n",
       "      <th>0</th>\n",
       "      <td>1</td>\n",
       "      <td>5</td>\n",
       "      <td>1</td>\n",
       "      <td>15</td>\n",
       "    </tr>\n",
       "    <tr>\n",
       "      <th>1</th>\n",
       "      <td>2</td>\n",
       "      <td>6</td>\n",
       "      <td>2</td>\n",
       "      <td>26</td>\n",
       "    </tr>\n",
       "    <tr>\n",
       "      <th>2</th>\n",
       "      <td>3</td>\n",
       "      <td>7</td>\n",
       "      <td>3</td>\n",
       "      <td>37</td>\n",
       "    </tr>\n",
       "    <tr>\n",
       "      <th>3</th>\n",
       "      <td>4</td>\n",
       "      <td>8</td>\n",
       "      <td>5</td>\n",
       "      <td>48</td>\n",
       "    </tr>\n",
       "  </tbody>\n",
       "</table>\n",
       "</div>"
      ],
      "text/plain": [
       "   A_x  B_x  A_y  B_y\n",
       "0    1    5    1   15\n",
       "1    2    6    2   26\n",
       "2    3    7    3   37\n",
       "3    4    8    5   48"
      ]
     },
     "execution_count": 39,
     "metadata": {},
     "output_type": "execute_result"
    }
   ],
   "source": [
    "df1=pd.DataFrame({\"A\":[1,2,3,4],\"B\":[5,6,7,8]})\n",
    "df2=pd.DataFrame({\"A\":[1,2,3,5],\"B\":[15,26,37,48]})\n",
    "\n",
    "pd.merge(df1,df2,left_index=True,right_index=True)"
   ]
  },
  {
   "cell_type": "markdown",
   "id": "1d0726fa-0102-45e4-8e3f-e70aff5ebd4f",
   "metadata": {},
   "source": [
    "***\n",
    "**Changing col_names**"
   ]
  },
  {
   "cell_type": "code",
   "execution_count": 19,
   "id": "712fb125-ab3d-4855-8704-896ed68b2628",
   "metadata": {},
   "outputs": [
    {
     "data": {
      "text/html": [
       "<div>\n",
       "<style scoped>\n",
       "    .dataframe tbody tr th:only-of-type {\n",
       "        vertical-align: middle;\n",
       "    }\n",
       "\n",
       "    .dataframe tbody tr th {\n",
       "        vertical-align: top;\n",
       "    }\n",
       "\n",
       "    .dataframe thead th {\n",
       "        text-align: right;\n",
       "    }\n",
       "</style>\n",
       "<table border=\"1\" class=\"dataframe\">\n",
       "  <thead>\n",
       "    <tr style=\"text-align: right;\">\n",
       "      <th></th>\n",
       "      <th>A_Id</th>\n",
       "      <th>B_Id</th>\n",
       "      <th>A_Val</th>\n",
       "      <th>B_Val</th>\n",
       "    </tr>\n",
       "  </thead>\n",
       "  <tbody>\n",
       "    <tr>\n",
       "      <th>0</th>\n",
       "      <td>1</td>\n",
       "      <td>5</td>\n",
       "      <td>1</td>\n",
       "      <td>15</td>\n",
       "    </tr>\n",
       "    <tr>\n",
       "      <th>1</th>\n",
       "      <td>2</td>\n",
       "      <td>6</td>\n",
       "      <td>2</td>\n",
       "      <td>26</td>\n",
       "    </tr>\n",
       "    <tr>\n",
       "      <th>2</th>\n",
       "      <td>3</td>\n",
       "      <td>7</td>\n",
       "      <td>3</td>\n",
       "      <td>37</td>\n",
       "    </tr>\n",
       "    <tr>\n",
       "      <th>3</th>\n",
       "      <td>4</td>\n",
       "      <td>8</td>\n",
       "      <td>5</td>\n",
       "      <td>48</td>\n",
       "    </tr>\n",
       "  </tbody>\n",
       "</table>\n",
       "</div>"
      ],
      "text/plain": [
       "   A_Id  B_Id  A_Val  B_Val\n",
       "0     1     5      1     15\n",
       "1     2     6      2     26\n",
       "2     3     7      3     37\n",
       "3     4     8      5     48"
      ]
     },
     "execution_count": 19,
     "metadata": {},
     "output_type": "execute_result"
    }
   ],
   "source": [
    "pd.merge(df1,df2,left_index=True,right_index=True,suffixes=[\"_Id\",\"_Val\"])"
   ]
  },
  {
   "cell_type": "markdown",
   "id": "c07f7fd3-22ef-41d1-bfbc-f7d3f74e75c4",
   "metadata": {},
   "source": [
    "***"
   ]
  },
  {
   "cell_type": "markdown",
   "id": "4fcc40bc-7d39-41c6-bee1-f20f7a29e240",
   "metadata": {},
   "source": [
    "# Concat"
   ]
  },
  {
   "cell_type": "markdown",
   "id": "7912f213-4a2b-4546-9a94-6d6a2b71dde7",
   "metadata": {},
   "source": [
    "==> **It is used to concatenate series/dataframe.**"
   ]
  },
  {
   "cell_type": "markdown",
   "id": "5f66c115-5e47-41ee-91e6-c1bc907dabca",
   "metadata": {},
   "source": [
    "==>**Also works when no same col_name.**"
   ]
  },
  {
   "cell_type": "markdown",
   "id": "8f1edb4c-99d9-48f0-a2f7-60d9f25aefa2",
   "metadata": {},
   "source": [
    "==>**pd.concat([sr_1,sr_2])**"
   ]
  },
  {
   "cell_type": "markdown",
   "id": "7f7a1ed2-58cc-4a47-bb2c-127965201d94",
   "metadata": {},
   "source": [
    "***"
   ]
  },
  {
   "cell_type": "code",
   "execution_count": 63,
   "id": "4a75477f-0610-44fd-86e8-46e02bf059f6",
   "metadata": {},
   "outputs": [
    {
     "name": "stdout",
     "output_type": "stream",
     "text": [
      "0    1\n",
      "1    2\n",
      "2    3\n",
      "3    4\n",
      "dtype: int64\n",
      "\n",
      "0    21\n",
      "1    32\n",
      "2    43\n",
      "3    54\n",
      "dtype: int64\n"
     ]
    }
   ],
   "source": [
    "sr1=pd.Series([1,2,3,4])\n",
    "sr2=pd.Series([21,32,43,54])\n",
    "\n",
    "print(sr1)\n",
    "print()\n",
    "print(sr2)"
   ]
  },
  {
   "cell_type": "markdown",
   "id": "b81f1168-c90e-4e48-942e-9c07dbb3ff07",
   "metadata": {},
   "source": [
    "**Working with series**\n",
    "***"
   ]
  },
  {
   "cell_type": "code",
   "execution_count": 33,
   "id": "4e070419-faec-4856-806b-5327b0369b8f",
   "metadata": {},
   "outputs": [
    {
     "data": {
      "text/plain": [
       "0     1\n",
       "1     2\n",
       "2     3\n",
       "3     4\n",
       "0    21\n",
       "1    32\n",
       "2    43\n",
       "3    54\n",
       "dtype: int64"
      ]
     },
     "execution_count": 33,
     "metadata": {},
     "output_type": "execute_result"
    }
   ],
   "source": [
    "pd.concat([sr1,sr2])"
   ]
  },
  {
   "cell_type": "markdown",
   "id": "0ac4fc1b-9c5c-4773-a150-33d3fbb3d045",
   "metadata": {},
   "source": [
    "**Working with DataFrames**\n",
    "***"
   ]
  },
  {
   "cell_type": "code",
   "execution_count": 49,
   "id": "878fda5a-592c-498c-9ba6-222fd693d45e",
   "metadata": {},
   "outputs": [],
   "source": [
    "d1=pd.DataFrame({\"A\":[1,2,3,4],\"B\":[5,6,7,8]})\n",
    "d2=pd.DataFrame({\"A\":[1,2],\"C\":[15,26]})"
   ]
  },
  {
   "cell_type": "code",
   "execution_count": 50,
   "id": "d6b3b5a5-a94b-4864-a654-a46cadb7544b",
   "metadata": {},
   "outputs": [
    {
     "data": {
      "text/html": [
       "<div>\n",
       "<style scoped>\n",
       "    .dataframe tbody tr th:only-of-type {\n",
       "        vertical-align: middle;\n",
       "    }\n",
       "\n",
       "    .dataframe tbody tr th {\n",
       "        vertical-align: top;\n",
       "    }\n",
       "\n",
       "    .dataframe thead th {\n",
       "        text-align: right;\n",
       "    }\n",
       "</style>\n",
       "<table border=\"1\" class=\"dataframe\">\n",
       "  <thead>\n",
       "    <tr style=\"text-align: right;\">\n",
       "      <th></th>\n",
       "      <th>A</th>\n",
       "      <th>B</th>\n",
       "      <th>C</th>\n",
       "    </tr>\n",
       "  </thead>\n",
       "  <tbody>\n",
       "    <tr>\n",
       "      <th>0</th>\n",
       "      <td>1</td>\n",
       "      <td>5.0</td>\n",
       "      <td>NaN</td>\n",
       "    </tr>\n",
       "    <tr>\n",
       "      <th>1</th>\n",
       "      <td>2</td>\n",
       "      <td>6.0</td>\n",
       "      <td>NaN</td>\n",
       "    </tr>\n",
       "    <tr>\n",
       "      <th>2</th>\n",
       "      <td>3</td>\n",
       "      <td>7.0</td>\n",
       "      <td>NaN</td>\n",
       "    </tr>\n",
       "    <tr>\n",
       "      <th>3</th>\n",
       "      <td>4</td>\n",
       "      <td>8.0</td>\n",
       "      <td>NaN</td>\n",
       "    </tr>\n",
       "    <tr>\n",
       "      <th>0</th>\n",
       "      <td>1</td>\n",
       "      <td>NaN</td>\n",
       "      <td>15.0</td>\n",
       "    </tr>\n",
       "    <tr>\n",
       "      <th>1</th>\n",
       "      <td>2</td>\n",
       "      <td>NaN</td>\n",
       "      <td>26.0</td>\n",
       "    </tr>\n",
       "  </tbody>\n",
       "</table>\n",
       "</div>"
      ],
      "text/plain": [
       "   A    B     C\n",
       "0  1  5.0   NaN\n",
       "1  2  6.0   NaN\n",
       "2  3  7.0   NaN\n",
       "3  4  8.0   NaN\n",
       "0  1  NaN  15.0\n",
       "1  2  NaN  26.0"
      ]
     },
     "execution_count": 50,
     "metadata": {},
     "output_type": "execute_result"
    }
   ],
   "source": [
    "pd.concat([d1,d2])"
   ]
  },
  {
   "cell_type": "markdown",
   "id": "d7a0c4b6-6f40-4331-bf22-a3a2710d250d",
   "metadata": {},
   "source": [
    "***\n",
    "**Using axis**"
   ]
  },
  {
   "cell_type": "code",
   "execution_count": 53,
   "id": "52d2830e-b8d3-4888-9343-d6d0685e1a9c",
   "metadata": {},
   "outputs": [
    {
     "data": {
      "text/html": [
       "<div>\n",
       "<style scoped>\n",
       "    .dataframe tbody tr th:only-of-type {\n",
       "        vertical-align: middle;\n",
       "    }\n",
       "\n",
       "    .dataframe tbody tr th {\n",
       "        vertical-align: top;\n",
       "    }\n",
       "\n",
       "    .dataframe thead th {\n",
       "        text-align: right;\n",
       "    }\n",
       "</style>\n",
       "<table border=\"1\" class=\"dataframe\">\n",
       "  <thead>\n",
       "    <tr style=\"text-align: right;\">\n",
       "      <th></th>\n",
       "      <th>A</th>\n",
       "      <th>B</th>\n",
       "      <th>A</th>\n",
       "      <th>C</th>\n",
       "    </tr>\n",
       "  </thead>\n",
       "  <tbody>\n",
       "    <tr>\n",
       "      <th>0</th>\n",
       "      <td>1</td>\n",
       "      <td>5</td>\n",
       "      <td>1.0</td>\n",
       "      <td>15.0</td>\n",
       "    </tr>\n",
       "    <tr>\n",
       "      <th>1</th>\n",
       "      <td>2</td>\n",
       "      <td>6</td>\n",
       "      <td>2.0</td>\n",
       "      <td>26.0</td>\n",
       "    </tr>\n",
       "    <tr>\n",
       "      <th>2</th>\n",
       "      <td>3</td>\n",
       "      <td>7</td>\n",
       "      <td>NaN</td>\n",
       "      <td>NaN</td>\n",
       "    </tr>\n",
       "    <tr>\n",
       "      <th>3</th>\n",
       "      <td>4</td>\n",
       "      <td>8</td>\n",
       "      <td>NaN</td>\n",
       "      <td>NaN</td>\n",
       "    </tr>\n",
       "  </tbody>\n",
       "</table>\n",
       "</div>"
      ],
      "text/plain": [
       "   A  B    A     C\n",
       "0  1  5  1.0  15.0\n",
       "1  2  6  2.0  26.0\n",
       "2  3  7  NaN   NaN\n",
       "3  4  8  NaN   NaN"
      ]
     },
     "execution_count": 53,
     "metadata": {},
     "output_type": "execute_result"
    }
   ],
   "source": [
    "pd.concat([d1,d2],axis=1)"
   ]
  },
  {
   "cell_type": "markdown",
   "id": "349615f7-cefd-4e19-85a7-1586846fc796",
   "metadata": {},
   "source": [
    "***\n",
    "**Only using intersected/union data**"
   ]
  },
  {
   "cell_type": "code",
   "execution_count": 55,
   "id": "0c41d8d1-301f-472d-8d96-bdfd46184610",
   "metadata": {},
   "outputs": [
    {
     "data": {
      "text/html": [
       "<div>\n",
       "<style scoped>\n",
       "    .dataframe tbody tr th:only-of-type {\n",
       "        vertical-align: middle;\n",
       "    }\n",
       "\n",
       "    .dataframe tbody tr th {\n",
       "        vertical-align: top;\n",
       "    }\n",
       "\n",
       "    .dataframe thead th {\n",
       "        text-align: right;\n",
       "    }\n",
       "</style>\n",
       "<table border=\"1\" class=\"dataframe\">\n",
       "  <thead>\n",
       "    <tr style=\"text-align: right;\">\n",
       "      <th></th>\n",
       "      <th>A</th>\n",
       "      <th>B</th>\n",
       "      <th>A</th>\n",
       "      <th>C</th>\n",
       "    </tr>\n",
       "  </thead>\n",
       "  <tbody>\n",
       "    <tr>\n",
       "      <th>0</th>\n",
       "      <td>1</td>\n",
       "      <td>5</td>\n",
       "      <td>1</td>\n",
       "      <td>15</td>\n",
       "    </tr>\n",
       "    <tr>\n",
       "      <th>1</th>\n",
       "      <td>2</td>\n",
       "      <td>6</td>\n",
       "      <td>2</td>\n",
       "      <td>26</td>\n",
       "    </tr>\n",
       "  </tbody>\n",
       "</table>\n",
       "</div>"
      ],
      "text/plain": [
       "   A  B  A   C\n",
       "0  1  5  1  15\n",
       "1  2  6  2  26"
      ]
     },
     "execution_count": 55,
     "metadata": {},
     "output_type": "execute_result"
    }
   ],
   "source": [
    "pd.concat([d1,d2],axis=1,join=\"inner\")"
   ]
  },
  {
   "cell_type": "markdown",
   "id": "a410d0b2-02e1-41ed-ac25-d63979003abf",
   "metadata": {},
   "source": [
    "***"
   ]
  }
 ],
 "metadata": {
  "kernelspec": {
   "display_name": "Python 3 (ipykernel)",
   "language": "python",
   "name": "python3"
  },
  "language_info": {
   "codemirror_mode": {
    "name": "ipython",
    "version": 3
   },
   "file_extension": ".py",
   "mimetype": "text/x-python",
   "name": "python",
   "nbconvert_exporter": "python",
   "pygments_lexer": "ipython3",
   "version": "3.11.7"
  }
 },
 "nbformat": 4,
 "nbformat_minor": 5
}
