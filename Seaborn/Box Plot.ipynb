{
 "cells": [
  {
   "cell_type": "markdown",
   "id": "2c497ee9-9d8c-4a2f-80cf-ff2a2385e375",
   "metadata": {},
   "source": [
    "***Use Case:*** Suitable for displaying the spread and variability in a dataset."
   ]
  },
  {
   "cell_type": "markdown",
   "id": "f3978cd9-3238-4a47-a7af-079be4d1464a",
   "metadata": {},
   "source": [
    "***Examples:*** Useful in comparing test score distributions across different groups, observing outliers, or understanding income distribution across cities."
   ]
  },
  {
   "cell_type": "code",
   "execution_count": null,
   "id": "ab66458d-639a-4afd-bd3d-a5166d8e1fb4",
   "metadata": {},
   "outputs": [],
   "source": []
  }
 ],
 "metadata": {
  "kernelspec": {
   "display_name": "Python 3 (ipykernel)",
   "language": "python",
   "name": "python3"
  },
  "language_info": {
   "codemirror_mode": {
    "name": "ipython",
    "version": 3
   },
   "file_extension": ".py",
   "mimetype": "text/x-python",
   "name": "python",
   "nbconvert_exporter": "python",
   "pygments_lexer": "ipython3",
   "version": "3.12.7"
  }
 },
 "nbformat": 4,
 "nbformat_minor": 5
}
