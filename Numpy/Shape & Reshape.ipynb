{
 "cells": [
  {
   "cell_type": "code",
   "execution_count": 1,
   "id": "70259bc0-a5a5-4fd7-bd0b-2f5e00b0f1ee",
   "metadata": {},
   "outputs": [],
   "source": [
    "import numpy as np"
   ]
  },
  {
   "cell_type": "markdown",
   "id": "bbc0d906-8266-400e-aed2-709bfd514991",
   "metadata": {},
   "source": [
    "# Shape\n",
    "***"
   ]
  },
  {
   "cell_type": "code",
   "execution_count": 6,
   "id": "af89feea-b1c6-45f4-a452-ae7820348fb1",
   "metadata": {},
   "outputs": [
    {
     "name": "stdout",
     "output_type": "stream",
     "text": [
      "(3, 4)\n",
      "\n",
      " [[ 1  2  4  5]\n",
      " [ 6  7  8  9]\n",
      " [10 12 14 19]]\n"
     ]
    }
   ],
   "source": [
    "arr=np.array([[1,2,4,5],[6,7,8,9],[10,12,14,19]])\n",
    "print(arr.shape)\n",
    "print(\"\\n\",arr)"
   ]
  },
  {
   "cell_type": "markdown",
   "id": "8f52b86a-955e-4d34-aef2-e7322e2866c3",
   "metadata": {},
   "source": [
    "***\n",
    "# Reshape\n",
    "***Used to change original shape of any array***"
   ]
  },
  {
   "cell_type": "markdown",
   "id": "e6d608a1-e7df-4c7f-9c8f-e270da39660e",
   "metadata": {},
   "source": [
    "**Accepts two arguments : (i) no of rows, (ii) no of columns for new shape of the array.(in case of conversion to 1D, row is neglected or -1 is given as parameter.)**"
   ]
  },
  {
   "cell_type": "code",
   "execution_count": 3,
   "id": "cc2769c6-3023-4398-a9f9-6a9561273b6b",
   "metadata": {},
   "outputs": [
    {
     "data": {
      "text/plain": [
       "array([[1, 2],\n",
       "       [4, 5],\n",
       "       [6, 7],\n",
       "       [8, 9]])"
      ]
     },
     "execution_count": 3,
     "metadata": {},
     "output_type": "execute_result"
    }
   ],
   "source": [
    "#dealing 2-D array\n",
    "arr=arr.reshape(4,2)\n",
    "arr"
   ]
  },
  {
   "cell_type": "code",
   "execution_count": 4,
   "id": "95ce104d-414b-4006-b344-7fa1e52cc2dd",
   "metadata": {
    "scrolled": true
   },
   "outputs": [
    {
     "name": "stdout",
     "output_type": "stream",
     "text": [
      "[1 2 4 5 6 7 8 9]\n",
      "[1 2 4 5 6 7 8 9]\n"
     ]
    }
   ],
   "source": [
    "#dealing 1-D array\n",
    "arr=arr.reshape(8,)\n",
    "\n",
    "print(arr)\n",
    "arr=arr.reshape(-1)\n",
    "print(arr)"
   ]
  },
  {
   "cell_type": "code",
   "execution_count": 13,
   "id": "89a71940-9f5f-42e8-84c1-b27f6ba7c2af",
   "metadata": {
    "scrolled": true
   },
   "outputs": [
    {
     "data": {
      "text/plain": [
       "array([[[ 1,  2],\n",
       "        [ 4,  5],\n",
       "        [ 6,  7]],\n",
       "\n",
       "       [[ 8,  9],\n",
       "        [10, 12],\n",
       "        [14, 19]]])"
      ]
     },
     "execution_count": 13,
     "metadata": {},
     "output_type": "execute_result"
    }
   ],
   "source": [
    "arr=arr.reshape(2,3,2)\n",
    "arr"
   ]
  },
  {
   "cell_type": "markdown",
   "id": "32ea1121-f38e-4d78-9f09-ae93282d787b",
   "metadata": {},
   "source": [
    "***"
   ]
  }
 ],
 "metadata": {
  "kernelspec": {
   "display_name": "Python 3 (ipykernel)",
   "language": "python",
   "name": "python3"
  },
  "language_info": {
   "codemirror_mode": {
    "name": "ipython",
    "version": 3
   },
   "file_extension": ".py",
   "mimetype": "text/x-python",
   "name": "python",
   "nbconvert_exporter": "python",
   "pygments_lexer": "ipython3",
   "version": "3.11.7"
  }
 },
 "nbformat": 4,
 "nbformat_minor": 5
}
