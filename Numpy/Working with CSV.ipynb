{
 "cells": [
  {
   "cell_type": "markdown",
   "id": "6cc33336-1d3e-4066-b3fb-fd3cda556f8e",
   "metadata": {},
   "source": [
    "# ***Working with CSV data files***"
   ]
  },
  {
   "cell_type": "markdown",
   "id": "1feb3d92-7809-4dc9-a444-ecd39142ff38",
   "metadata": {},
   "source": [
    "**code to retrieve data from txt file**"
   ]
  },
  {
   "cell_type": "code",
   "execution_count": 1,
   "id": "73c57a36-69e2-447d-a92f-daa72d87a7f0",
   "metadata": {},
   "outputs": [],
   "source": [
    "import numpy as np"
   ]
  },
  {
   "cell_type": "code",
   "execution_count": 2,
   "id": "159a6ba3-a74a-4ad2-a7d9-fbb2a42d3f49",
   "metadata": {},
   "outputs": [
    {
     "data": {
      "text/plain": [
       "('climate.txt', <http.client.HTTPMessage at 0x1d35cd40e10>)"
      ]
     },
     "execution_count": 2,
     "metadata": {},
     "output_type": "execute_result"
    }
   ],
   "source": [
    "import urllib.request\n",
    "\n",
    "urllib.request.urlretrieve(\n",
    "    'https://gist.github.com/BirajCoder/a4ffcb76fd6fb221d76ac2ee2b8584e9/raw/4054f90adfd361b7aa4255e99c2e874664094cea/climate.csv', \n",
    "    'climate.txt')#urlretrieve('txt_file's link,file_Name for downloading txt')"
   ]
  },
  {
   "cell_type": "code",
   "execution_count": 3,
   "id": "695701e9-b3e4-4ddd-89c7-f1a3ea8e088a",
   "metadata": {},
   "outputs": [],
   "source": [
    "climate_data = np.genfromtxt('climate.txt', delimiter=',', skip_header=1)#genfromtxt('txt_file_name', delimiter=',', skip_header=1)"
   ]
  },
  {
   "cell_type": "code",
   "execution_count": 4,
   "id": "7df3f85f-2bbc-4e02-8115-e0b0595ab53a",
   "metadata": {},
   "outputs": [
    {
     "data": {
      "text/plain": [
       "array([[25., 76., 99.],\n",
       "       [39., 65., 70.],\n",
       "       [59., 45., 77.],\n",
       "       ...,\n",
       "       [99., 62., 58.],\n",
       "       [70., 71., 91.],\n",
       "       [92., 39., 76.]])"
      ]
     },
     "execution_count": 4,
     "metadata": {},
     "output_type": "execute_result"
    }
   ],
   "source": [
    "climate_data"
   ]
  },
  {
   "cell_type": "code",
   "execution_count": 5,
   "id": "1dc0a0be-0186-4401-825b-e85768329627",
   "metadata": {},
   "outputs": [],
   "source": [
    "#np.savetxt('climate_results.txt', climate_results, fmt='%.2f', delimiter=',',header='temperature,rainfall,humidity,yeild_apples', comments='')"
   ]
  },
  {
   "cell_type": "code",
   "execution_count": null,
   "id": "974606f2-bae7-46bd-959b-3579e865530f",
   "metadata": {},
   "outputs": [],
   "source": []
  }
 ],
 "metadata": {
  "kernelspec": {
   "display_name": "Python 3 (ipykernel)",
   "language": "python",
   "name": "python3"
  },
  "language_info": {
   "codemirror_mode": {
    "name": "ipython",
    "version": 3
   },
   "file_extension": ".py",
   "mimetype": "text/x-python",
   "name": "python",
   "nbconvert_exporter": "python",
   "pygments_lexer": "ipython3",
   "version": "3.11.7"
  }
 },
 "nbformat": 4,
 "nbformat_minor": 5
}
