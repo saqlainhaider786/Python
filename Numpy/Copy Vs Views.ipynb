{
 "cells": [
  {
   "cell_type": "code",
   "execution_count": 1,
   "id": "b036e540-60c2-492b-a84b-dce1e9ec6d6b",
   "metadata": {},
   "outputs": [],
   "source": [
    "import numpy as np"
   ]
  },
  {
   "cell_type": "markdown",
   "id": "6eb5e6a8-f1ec-4918-96f2-bde8582a77be",
   "metadata": {},
   "source": [
    "# Copy"
   ]
  },
  {
   "cell_type": "markdown",
   "id": "9c0b2fea-0966-44af-9ef7-73bf58f3f241",
   "metadata": {},
   "source": [
    "**Creates copy of an array. Changings do not effect the copied array.**"
   ]
  },
  {
   "cell_type": "code",
   "execution_count": 2,
   "id": "1ab1a858-a13f-4b8a-833b-c544f09ba8c1",
   "metadata": {},
   "outputs": [
    {
     "data": {
      "text/plain": [
       "array([2, 6, 8, 9])"
      ]
     },
     "execution_count": 2,
     "metadata": {},
     "output_type": "execute_result"
    }
   ],
   "source": [
    "arr1=np.array([2,6,8,9])\n",
    "\n",
    "arrCpy=arr1.copy()\n",
    "\n",
    "arrCpy"
   ]
  },
  {
   "cell_type": "code",
   "execution_count": 3,
   "id": "70baa012-4408-4c48-9dc6-092b42bafe80",
   "metadata": {},
   "outputs": [
    {
     "name": "stdout",
     "output_type": "stream",
     "text": [
      "[ 2  6 10  9]\n",
      "[2 6 8 9]\n"
     ]
    }
   ],
   "source": [
    "# changing effects\n",
    "arr1[2]=10\n",
    "print(arr1)\n",
    "print(arrCpy)"
   ]
  },
  {
   "cell_type": "markdown",
   "id": "74aeaf83-4168-4c54-9e0c-3e49f8621e21",
   "metadata": {},
   "source": [
    "***\n",
    "# View"
   ]
  },
  {
   "cell_type": "markdown",
   "id": "2edc7ced-e9e5-4ec7-b544-f3a52b277fd6",
   "metadata": {},
   "source": [
    "**Creates copy of an array. Changings do not effect the copied array.**"
   ]
  },
  {
   "cell_type": "code",
   "execution_count": 4,
   "id": "ce1cd341-eadc-4c06-b856-0b9183e98dca",
   "metadata": {},
   "outputs": [
    {
     "name": "stdout",
     "output_type": "stream",
     "text": [
      "[1 2 5 7]\n",
      "[1 2 5 7]\n"
     ]
    }
   ],
   "source": [
    "arr=np.array([1,2,5,7])\n",
    "\n",
    "arrVi=arr.view()\n",
    "print(arr)\n",
    "print(arrVi)"
   ]
  },
  {
   "cell_type": "code",
   "execution_count": 5,
   "id": "47cc0a12-fea2-40f5-90a3-a715b9b837e7",
   "metadata": {},
   "outputs": [
    {
     "name": "stdout",
     "output_type": "stream",
     "text": [
      "[ 1 10  5  7]\n",
      "[ 1 10  5  7]\n"
     ]
    }
   ],
   "source": [
    "# effect\n",
    "arrVi[1]=10 #changes this index's value of both array\n",
    "print(arr)\n",
    "print(arrVi)"
   ]
  },
  {
   "cell_type": "markdown",
   "id": "3e494b29-aa51-42fd-af4b-da01bdb0c281",
   "metadata": {},
   "source": [
    "***"
   ]
  }
 ],
 "metadata": {
  "kernelspec": {
   "display_name": "Python 3 (ipykernel)",
   "language": "python",
   "name": "python3"
  },
  "language_info": {
   "codemirror_mode": {
    "name": "ipython",
    "version": 3
   },
   "file_extension": ".py",
   "mimetype": "text/x-python",
   "name": "python",
   "nbconvert_exporter": "python",
   "pygments_lexer": "ipython3",
   "version": "3.11.7"
  }
 },
 "nbformat": 4,
 "nbformat_minor": 5
}
