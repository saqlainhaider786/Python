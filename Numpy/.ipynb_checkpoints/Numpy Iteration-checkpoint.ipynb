{
 "cells": [
  {
   "cell_type": "code",
   "execution_count": 1,
   "id": "b9b39d15-2ef0-44ea-baf3-57591809221d",
   "metadata": {},
   "outputs": [],
   "source": [
    "import numpy as np"
   ]
  },
  {
   "cell_type": "markdown",
   "id": "9b06f373-c9a5-433e-8c3c-50b2901a5578",
   "metadata": {},
   "source": [
    "# Iteration of 1D\n",
    "***"
   ]
  },
  {
   "cell_type": "code",
   "execution_count": 2,
   "id": "d150baea-1549-4f1e-9361-e2f747f1c929",
   "metadata": {},
   "outputs": [
    {
     "name": "stdout",
     "output_type": "stream",
     "text": [
      "2\n",
      "5\n",
      "7\n",
      "8\n",
      "2\n"
     ]
    }
   ],
   "source": [
    "arr1=np.array([2,5,7,8,2])\n",
    "\n",
    "for i in arr1:\n",
    "    print(i)"
   ]
  },
  {
   "cell_type": "markdown",
   "id": "5c95059d-b529-4fc0-89d3-b340b3f23472",
   "metadata": {},
   "source": [
    "# Iteration of 2D\n",
    "***"
   ]
  },
  {
   "cell_type": "code",
   "execution_count": 6,
   "id": "7713f23e-023b-4e08-8fce-f759fa20ee35",
   "metadata": {},
   "outputs": [
    {
     "name": "stdout",
     "output_type": "stream",
     "text": [
      "2\n",
      "4\n",
      "6\n",
      "7\n",
      "1\n",
      "4\n",
      "5\n",
      "9\n"
     ]
    }
   ],
   "source": [
    "arr2=np.array([[2,4,6,7],[1,4,5,9]])\n",
    "n=0\n",
    "for i in arr2:\n",
    "    for j in i:\n",
    "        print(j)"
   ]
  },
  {
   "cell_type": "markdown",
   "id": "002c0f33-3198-4d46-ae57-1413c8834591",
   "metadata": {},
   "source": [
    "# Iteration of 3D\n",
    "***"
   ]
  },
  {
   "cell_type": "code",
   "execution_count": 13,
   "id": "7e600c00-e1e3-4892-93f5-cbb04de22ec0",
   "metadata": {},
   "outputs": [
    {
     "data": {
      "text/plain": [
       "(2, 2, 4)"
      ]
     },
     "execution_count": 13,
     "metadata": {},
     "output_type": "execute_result"
    }
   ],
   "source": [
    "arr3=np.array([[[1,2,4,6],[3,5,7,9]],[[4,1,9,0],[2,9,8,0]]])\n",
    "\n",
    "arr3.shape"
   ]
  },
  {
   "cell_type": "code",
   "execution_count": 12,
   "id": "0bfa7c53-2ae8-4b3e-a482-f2406ff9ce3f",
   "metadata": {},
   "outputs": [
    {
     "name": "stdout",
     "output_type": "stream",
     "text": [
      "1\n",
      "2\n",
      "4\n",
      "6\n",
      "3\n",
      "5\n",
      "7\n",
      "9\n",
      "4\n",
      "1\n",
      "9\n",
      "0\n",
      "2\n",
      "9\n",
      "8\n",
      "0\n"
     ]
    }
   ],
   "source": [
    "n=0\n",
    "for i in arr3:\n",
    "    for j in i:\n",
    "        for k in j:\n",
    "            print(k)"
   ]
  },
  {
   "cell_type": "markdown",
   "id": "d31a3472-772b-41ea-ad7c-71f3fd01ca40",
   "metadata": {},
   "source": [
    "# Another approach\n",
    "***\n",
    "**Only iterating an array's values**"
   ]
  },
  {
   "cell_type": "code",
   "execution_count": 14,
   "id": "3ef203ab-4a1b-4d3c-bc33-9d8b32469b39",
   "metadata": {},
   "outputs": [],
   "source": [
    "arr3=np.array([[[1,2,4,6],[3,5,7,9]],[[4,1,9,0],[2,9,8,0]]])"
   ]
  },
  {
   "cell_type": "code",
   "execution_count": 19,
   "id": "a83e8ead-3ad0-44d2-984b-8ae7e3622c8a",
   "metadata": {},
   "outputs": [
    {
     "name": "stdout",
     "output_type": "stream",
     "text": [
      "1\n",
      "2\n",
      "4\n",
      "6\n",
      "3\n",
      "5\n",
      "7\n",
      "9\n",
      "4\n",
      "1\n",
      "9\n",
      "0\n",
      "2\n",
      "9\n",
      "8\n",
      "0\n"
     ]
    }
   ],
   "source": [
    "for i in np.nditer(arr3):\n",
    "    print(i)"
   ]
  },
  {
   "cell_type": "markdown",
   "id": "c5e36406-ec9e-4fa2-b77f-d10d7b35ad80",
   "metadata": {},
   "source": [
    "**Iteration an array's values with their indexes**\n",
    "***"
   ]
  },
  {
   "cell_type": "code",
   "execution_count": 20,
   "id": "7e3b3461-f79c-4d0c-bfef-bddffc3c45ff",
   "metadata": {},
   "outputs": [
    {
     "name": "stdout",
     "output_type": "stream",
     "text": [
      "(0, 0) 2\n",
      "(0, 1) 4\n",
      "(0, 2) 6\n",
      "(0, 3) 7\n",
      "(1, 0) 1\n",
      "(1, 1) 4\n",
      "(1, 2) 5\n",
      "(1, 3) 9\n"
     ]
    }
   ],
   "source": [
    "for i,val in np.ndenumerate(arr2):\n",
    "    print(i,val)"
   ]
  },
  {
   "cell_type": "code",
   "execution_count": null,
   "id": "c18fdb0e-326c-47d5-99ff-f162f17bf34c",
   "metadata": {},
   "outputs": [],
   "source": []
  }
 ],
 "metadata": {
  "kernelspec": {
   "display_name": "Python 3 (ipykernel)",
   "language": "python",
   "name": "python3"
  },
  "language_info": {
   "codemirror_mode": {
    "name": "ipython",
    "version": 3
   },
   "file_extension": ".py",
   "mimetype": "text/x-python",
   "name": "python",
   "nbconvert_exporter": "python",
   "pygments_lexer": "ipython3",
   "version": "3.11.7"
  }
 },
 "nbformat": 4,
 "nbformat_minor": 5
}
