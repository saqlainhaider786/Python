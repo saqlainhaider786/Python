{
 "cells": [
  {
   "cell_type": "code",
   "execution_count": 1,
   "id": "fd63e1b1-0142-444c-b367-0ebb6530d2a1",
   "metadata": {},
   "outputs": [],
   "source": [
    "import numpy as np"
   ]
  },
  {
   "cell_type": "markdown",
   "id": "0f99e802-a597-4a89-b597-1f813739593d",
   "metadata": {},
   "source": [
    "# Broadcasting\n",
    "***"
   ]
  },
  {
   "cell_type": "markdown",
   "id": "511d888a-2c81-42bb-b1bd-e1591e51f449",
   "metadata": {},
   "source": [
    "**It has two rules :**"
   ]
  },
  {
   "cell_type": "markdown",
   "id": "f629b805-7674-40fe-b4e8-4cb2dea53775",
   "metadata": {},
   "source": [
    "**i) both matrix should have same order(r by c).**"
   ]
  },
  {
   "cell_type": "markdown",
   "id": "b9335e66-2f8f-419d-82f7-29e92856cff5",
   "metadata": {},
   "source": [
    "**ii) check values from right to left.**"
   ]
  },
  {
   "cell_type": "code",
   "execution_count": 2,
   "id": "f4c31f50-e245-4e71-b3b9-571ce8d462f5",
   "metadata": {},
   "outputs": [
    {
     "name": "stdout",
     "output_type": "stream",
     "text": [
      "[[25 15]\n",
      " [55 20]\n",
      " [65 25]]\n"
     ]
    }
   ],
   "source": [
    "val1=np.array([[20,10],[50,15],[60,20]])\n",
    "val2=np.array([[5],[5],[5]])\n",
    "print(val1+val2)"
   ]
  },
  {
   "cell_type": "markdown",
   "id": "0412e857-721f-414a-a9e6-0da653d4d3f9",
   "metadata": {},
   "source": [
    "***"
   ]
  }
 ],
 "metadata": {
  "kernelspec": {
   "display_name": "Python 3 (ipykernel)",
   "language": "python",
   "name": "python3"
  },
  "language_info": {
   "codemirror_mode": {
    "name": "ipython",
    "version": 3
   },
   "file_extension": ".py",
   "mimetype": "text/x-python",
   "name": "python",
   "nbconvert_exporter": "python",
   "pygments_lexer": "ipython3",
   "version": "3.11.7"
  }
 },
 "nbformat": 4,
 "nbformat_minor": 5
}
