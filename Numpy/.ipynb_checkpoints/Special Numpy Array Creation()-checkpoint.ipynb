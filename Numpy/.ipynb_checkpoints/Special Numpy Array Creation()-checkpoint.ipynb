{
 "cells": [
  {
   "cell_type": "markdown",
   "id": "5149883d-c761-49cb-a215-c18b19eda7f0",
   "metadata": {},
   "source": [
    "# Creation of array using built-in methods."
   ]
  },
  {
   "cell_type": "markdown",
   "id": "bd200087-ec43-48f1-8276-1d5862de7902",
   "metadata": {},
   "source": [
    "**1. Array filled with 0's**"
   ]
  },
  {
   "cell_type": "code",
   "execution_count": 2,
   "id": "456e8dbc-a4a7-4cbb-8362-53da571dae1b",
   "metadata": {},
   "outputs": [],
   "source": [
    "import numpy as np"
   ]
  },
  {
   "cell_type": "code",
   "execution_count": 6,
   "id": "37fd6457-e241-4c93-af7e-d32f307a5f0a",
   "metadata": {},
   "outputs": [
    {
     "data": {
      "text/plain": [
       "array([0., 0., 0., 0.])"
      ]
     },
     "execution_count": 6,
     "metadata": {},
     "output_type": "execute_result"
    }
   ],
   "source": [
    "# 1-D array\n",
    "arr1=np.zeros(4)\n",
    "arr1"
   ]
  },
  {
   "cell_type": "code",
   "execution_count": 17,
   "id": "d8e93002-19c4-42c3-80a6-f5b7b5d5d1a3",
   "metadata": {},
   "outputs": [
    {
     "name": "stdout",
     "output_type": "stream",
     "text": [
      "[[0. 0.]\n",
      " [0. 0.]\n",
      " [0. 0.]\n",
      " [0. 0.]]\n",
      "2\n"
     ]
    }
   ],
   "source": [
    "#2-D array\n",
    "\n",
    "arr2=np.zeros((4,2))\n",
    "print(arr2)\n",
    "print(arr2.ndim)"
   ]
  },
  {
   "cell_type": "markdown",
   "id": "b040c2fa-5f9c-4420-8f86-ae1eba69989e",
   "metadata": {},
   "source": [
    "**2. Array filled with 1's**"
   ]
  },
  {
   "cell_type": "code",
   "execution_count": 19,
   "id": "53841f61-fe81-4a3e-a1e7-ecdaa41e4365",
   "metadata": {},
   "outputs": [
    {
     "data": {
      "text/plain": [
       "array([1., 1., 1., 1.])"
      ]
     },
     "execution_count": 19,
     "metadata": {},
     "output_type": "execute_result"
    }
   ],
   "source": [
    "#1-D one's array\n",
    "arr1=np.ones(4)\n",
    "arr1"
   ]
  },
  {
   "cell_type": "code",
   "execution_count": 20,
   "id": "f7930eed-3e66-4c0e-acd6-ee0304888f83",
   "metadata": {},
   "outputs": [
    {
     "data": {
      "text/plain": [
       "array([[1., 1., 1.],\n",
       "       [1., 1., 1.]])"
      ]
     },
     "execution_count": 20,
     "metadata": {},
     "output_type": "execute_result"
    }
   ],
   "source": [
    "#2-D array\n",
    "arr2=np.ones((2,3))\n",
    "arr2"
   ]
  },
  {
   "cell_type": "markdown",
   "id": "8c75e327-5f14-4047-a321-ba8146cd2127",
   "metadata": {},
   "source": [
    "**3. Empty array**"
   ]
  },
  {
   "cell_type": "code",
   "execution_count": 21,
   "id": "e9c58bcd-40ca-4d61-a287-7d65dfbeb031",
   "metadata": {},
   "outputs": [],
   "source": [
    "#same as zeros and ones"
   ]
  },
  {
   "cell_type": "markdown",
   "id": "099a44b6-ee49-4f99-8608-d01acff03012",
   "metadata": {},
   "source": [
    "**4.Array of specific range**"
   ]
  },
  {
   "cell_type": "code",
   "execution_count": 27,
   "id": "1d46352f-8a3f-438c-a88c-7aaada117f6b",
   "metadata": {},
   "outputs": [
    {
     "data": {
      "text/plain": [
       "array([0, 1, 2, 3, 4, 5, 6, 7])"
      ]
     },
     "execution_count": 27,
     "metadata": {},
     "output_type": "execute_result"
    }
   ],
   "source": [
    "arrRan=np.arange(8)\n",
    "arrRan"
   ]
  },
  {
   "cell_type": "markdown",
   "id": "8f2ffd57-ebff-4b04-9b40-d3b9222aa1b6",
   "metadata": {},
   "source": [
    "**5.Diagonally filled by 1 array**"
   ]
  },
  {
   "cell_type": "code",
   "execution_count": 32,
   "id": "e9632fb4-2f60-436c-b300-16c4872a4f47",
   "metadata": {},
   "outputs": [
    {
     "data": {
      "text/plain": [
       "array([[1., 0., 0., 0., 0., 0.],\n",
       "       [0., 1., 0., 0., 0., 0.],\n",
       "       [0., 0., 1., 0., 0., 0.],\n",
       "       [0., 0., 0., 1., 0., 0.],\n",
       "       [0., 0., 0., 0., 1., 0.],\n",
       "       [0., 0., 0., 0., 0., 1.]])"
      ]
     },
     "execution_count": 32,
     "metadata": {},
     "output_type": "execute_result"
    }
   ],
   "source": [
    "# Always gives a square matrix having 1 on diagonal\n",
    "arrDia=np.eye(6)\n",
    "arrDia"
   ]
  },
  {
   "cell_type": "markdown",
   "id": "72fab699-2d82-471b-8093-769f70f98b02",
   "metadata": {},
   "source": [
    "**6.Array having equal difference elements.**"
   ]
  },
  {
   "cell_type": "code",
   "execution_count": 38,
   "id": "b6f38b1e-e146-4938-b3db-a360ad9afe0a",
   "metadata": {},
   "outputs": [
    {
     "data": {
      "text/plain": [
       "array([ 1. ,  2.8,  4.6,  6.4,  8.2, 10. ])"
      ]
     },
     "execution_count": 38,
     "metadata": {},
     "output_type": "execute_result"
    }
   ],
   "source": [
    "#linspace(start,end,num=no_Of_elements)\n",
    "arrLin=np.linspace(1,10,num=6)\n",
    "arrLin"
   ]
  },
  {
   "cell_type": "code",
   "execution_count": null,
   "id": "3f06a42c-38b1-40f5-9845-1b27c70d57a3",
   "metadata": {},
   "outputs": [],
   "source": []
  }
 ],
 "metadata": {
  "kernelspec": {
   "display_name": "Python 3 (ipykernel)",
   "language": "python",
   "name": "python3"
  },
  "language_info": {
   "codemirror_mode": {
    "name": "ipython",
    "version": 3
   },
   "file_extension": ".py",
   "mimetype": "text/x-python",
   "name": "python",
   "nbconvert_exporter": "python",
   "pygments_lexer": "ipython3",
   "version": "3.11.7"
  }
 },
 "nbformat": 4,
 "nbformat_minor": 5
}
