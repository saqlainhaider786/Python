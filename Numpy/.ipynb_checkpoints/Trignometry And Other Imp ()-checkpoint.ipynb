{
 "cells": [
  {
   "cell_type": "code",
   "execution_count": 1,
   "id": "21a9994b-1ace-44d6-8cdb-27bf6490f646",
   "metadata": {},
   "outputs": [],
   "source": [
    "import numpy as np"
   ]
  },
  {
   "cell_type": "markdown",
   "id": "e3e215bc-28f0-44b6-8edd-dc8cc8734e5e",
   "metadata": {},
   "source": [
    "**1.Getting minimum and maximum values within an Array**"
   ]
  },
  {
   "cell_type": "code",
   "execution_count": 9,
   "id": "799cae6c-044a-4e9d-a4e7-c7cfad1122a0",
   "metadata": {},
   "outputs": [
    {
     "name": "stdout",
     "output_type": "stream",
     "text": [
      "Maximum val is  170\n",
      "Minimum val is  0\n"
     ]
    }
   ],
   "source": [
    "arr=np.array([80,0,170,1])\n",
    "print(\"Maximum val is \",np.max(arr))\n",
    "print(\"Minimum val is \",np.min(arr))"
   ]
  },
  {
   "cell_type": "markdown",
   "id": "01993edb-cc2b-4134-9473-961d69323641",
   "metadata": {},
   "source": [
    "***\n",
    "**2.Getting index of max and min values within array**"
   ]
  },
  {
   "cell_type": "code",
   "execution_count": 10,
   "id": "10d3e7b0-094c-4827-a224-bec0ead29e7f",
   "metadata": {},
   "outputs": [
    {
     "name": "stdout",
     "output_type": "stream",
     "text": [
      "Maximum val is  170 . Its index is  2\n",
      "Minimum val is  0 . Its index is  1\n"
     ]
    }
   ],
   "source": [
    "print(\"Maximum val is \",np.max(arr),\". Its index is \",np.argmax(arr))\n",
    "print(\"Minimum val is \",np.min(arr),\". Its index is \",np.argmin(arr))"
   ]
  },
  {
   "cell_type": "markdown",
   "id": "e621bf37-a2a9-4f12-a1a8-d6661015e36a",
   "metadata": {},
   "source": [
    "***\n",
    "**3.Finding sqroot of any array**"
   ]
  },
  {
   "cell_type": "code",
   "execution_count": 14,
   "id": "8221f0a2-3326-4521-98ba-b76611fbc63a",
   "metadata": {},
   "outputs": [
    {
     "data": {
      "text/plain": [
       "array([[2., 3., 4., 5.],\n",
       "       [6., 7., 8., 9.]])"
      ]
     },
     "execution_count": 14,
     "metadata": {},
     "output_type": "execute_result"
    }
   ],
   "source": [
    "val=np.array([[4,9,16,25],[36,49,64,81]])\n",
    "np.sqrt(val)"
   ]
  },
  {
   "cell_type": "markdown",
   "id": "55c1c768-49dc-4f3b-bf68-73fb0ff97656",
   "metadata": {},
   "source": [
    "***\n",
    "**4.Finding sin/cos of any array**"
   ]
  },
  {
   "cell_type": "code",
   "execution_count": 20,
   "id": "f55a2bd3-0cc0-4e3c-9102-890828132a0e",
   "metadata": {},
   "outputs": [
    {
     "name": "stdout",
     "output_type": "stream",
     "text": [
      "[0.84147098 0.90929743 0.14112001]\n",
      "[ 0.54030231 -0.41614684 -0.9899925 ]\n"
     ]
    }
   ],
   "source": [
    "trgVal=np.array([1,2,3])\n",
    " \n",
    "print(np.sin(trgVal))\n",
    "print(np.cos(trgVal))"
   ]
  },
  {
   "cell_type": "markdown",
   "id": "c4b60094-6ab7-4747-86ff-21e7ec10fccf",
   "metadata": {},
   "source": [
    "***\n",
    "**5.Finding Cumulative Sum of an array**"
   ]
  },
  {
   "cell_type": "code",
   "execution_count": 24,
   "id": "806d8785-e93d-41bf-99ef-640ce81a0e57",
   "metadata": {},
   "outputs": [
    {
     "data": {
      "text/plain": [
       "array([ 2,  7, 15, 22, 23, 31, 37, 46])"
      ]
     },
     "execution_count": 24,
     "metadata": {},
     "output_type": "execute_result"
    }
   ],
   "source": [
    "cumSum=np.array([[2,5,8,7],[1,8,6,9]])\n",
    "\n",
    "np.cumsum(cumSum)"
   ]
  },
  {
   "cell_type": "markdown",
   "id": "b3efe5b7-43fa-4e4b-9ed9-938543493209",
   "metadata": {},
   "source": [
    "***"
   ]
  }
 ],
 "metadata": {
  "kernelspec": {
   "display_name": "Python 3 (ipykernel)",
   "language": "python",
   "name": "python3"
  },
  "language_info": {
   "codemirror_mode": {
    "name": "ipython",
    "version": 3
   },
   "file_extension": ".py",
   "mimetype": "text/x-python",
   "name": "python",
   "nbconvert_exporter": "python",
   "pygments_lexer": "ipython3",
   "version": "3.11.7"
  }
 },
 "nbformat": 4,
 "nbformat_minor": 5
}
