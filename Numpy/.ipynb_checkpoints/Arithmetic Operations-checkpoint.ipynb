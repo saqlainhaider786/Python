{
 "cells": [
  {
   "cell_type": "code",
   "execution_count": 1,
   "id": "24ed8bd0-2ef3-449d-8a45-7162f496be24",
   "metadata": {},
   "outputs": [],
   "source": [
    "import numpy as np"
   ]
  },
  {
   "cell_type": "code",
   "execution_count": 2,
   "id": "394aaae3-f60d-43e2-823c-dceee89dd0b6",
   "metadata": {},
   "outputs": [
    {
     "data": {
      "text/plain": [
       "array([4, 6, 7, 8])"
      ]
     },
     "execution_count": 2,
     "metadata": {},
     "output_type": "execute_result"
    }
   ],
   "source": [
    "#1-D\n",
    "val=np.array([2,4,5,6])\n",
    "val=np.add(val,2)#val+=2\n",
    "val"
   ]
  },
  {
   "cell_type": "code",
   "execution_count": 3,
   "id": "1e73f7a7-f39e-4a23-bae6-0a86f44de0a2",
   "metadata": {},
   "outputs": [
    {
     "data": {
      "text/plain": [
       "array([ 5, 12, 14, 17])"
      ]
     },
     "execution_count": 3,
     "metadata": {},
     "output_type": "execute_result"
    }
   ],
   "source": [
    "val2=np.array([1,6,7,9])\n",
    "val2=np.add(val,val2)#val+val2\n",
    "val2\n",
    "\n",
    "#Similarly, all arithematic operators are applicable."
   ]
  },
  {
   "cell_type": "code",
   "execution_count": 4,
   "id": "7ddb4902-963a-4570-9742-ea0184bb41a5",
   "metadata": {},
   "outputs": [
    {
     "data": {
      "text/plain": [
       "48"
      ]
     },
     "execution_count": 4,
     "metadata": {},
     "output_type": "execute_result"
    }
   ],
   "source": [
    "val2.sum()"
   ]
  },
  {
   "cell_type": "code",
   "execution_count": 5,
   "id": "afd497cb-f94e-49e8-848d-e7b25ccc4819",
   "metadata": {},
   "outputs": [
    {
     "data": {
      "text/plain": [
       "array([[ 3,  6,  9, 10],\n",
       "       [ 4,  8, 10, 11]])"
      ]
     },
     "execution_count": 5,
     "metadata": {},
     "output_type": "execute_result"
    }
   ],
   "source": [
    "#2-D\n",
    "val=np.array([[1,4,7,8],[2,6,8,9]])\n",
    "val=np.add(val,2)\n",
    "val"
   ]
  },
  {
   "cell_type": "code",
   "execution_count": 6,
   "id": "a723279f-9880-47ab-b4c9-91bc7a1f9f71",
   "metadata": {},
   "outputs": [
    {
     "data": {
      "text/plain": [
       "array([[ 4,  8, 12, 15],\n",
       "       [ 8, 15, 18, 20]])"
      ]
     },
     "execution_count": 6,
     "metadata": {},
     "output_type": "execute_result"
    }
   ],
   "source": [
    "val1=np.array([[1,2,3,5],[4,7,8,9]])\n",
    "sum=np.add(val,val1)\n",
    "sum\n",
    "\n",
    "#Similarly, all arithematic operators are applicable."
   ]
  },
  {
   "cell_type": "markdown",
   "id": "00be8b53-942c-4958-a3e8-20d9aea79635",
   "metadata": {},
   "source": [
    "***"
   ]
  }
 ],
 "metadata": {
  "kernelspec": {
   "display_name": "Python 3 (ipykernel)",
   "language": "python",
   "name": "python3"
  },
  "language_info": {
   "codemirror_mode": {
    "name": "ipython",
    "version": 3
   },
   "file_extension": ".py",
   "mimetype": "text/x-python",
   "name": "python",
   "nbconvert_exporter": "python",
   "pygments_lexer": "ipython3",
   "version": "3.11.7"
  }
 },
 "nbformat": 4,
 "nbformat_minor": 5
}
