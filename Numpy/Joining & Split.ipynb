{
 "cells": [
  {
   "cell_type": "code",
   "execution_count": 1,
   "id": "968af371-5c37-40d5-a395-8fd3bf2b2516",
   "metadata": {},
   "outputs": [],
   "source": [
    "import numpy as np"
   ]
  },
  {
   "cell_type": "markdown",
   "id": "1293fbe8-0b43-4f51-8577-f94d6c9468e8",
   "metadata": {},
   "source": [
    "# Join\n",
    "***"
   ]
  },
  {
   "cell_type": "markdown",
   "id": "b26252b7-450b-4cf3-9051-c973c15a5cc9",
   "metadata": {},
   "source": [
    "# 1-D Joining"
   ]
  },
  {
   "cell_type": "code",
   "execution_count": 18,
   "id": "1d29d6aa-59df-4b72-9b5f-343748fad2d3",
   "metadata": {},
   "outputs": [
    {
     "data": {
      "text/plain": [
       "array([[1, 2, 4, 5, 3, 6, 7, 8]])"
      ]
     },
     "execution_count": 18,
     "metadata": {},
     "output_type": "execute_result"
    }
   ],
   "source": [
    "arr=np.array([[1,2,4,5]])\n",
    "\n",
    "arr1=np.array([[3,6,7,8]])\n",
    "\n",
    "np.concatenate((arr,arr1),axis=1)"
   ]
  },
  {
   "cell_type": "markdown",
   "id": "b75882f2-9f0b-4446-a2f7-f6a563b7e8f4",
   "metadata": {},
   "source": [
    "***\n",
    "# 2-D joining"
   ]
  },
  {
   "cell_type": "code",
   "execution_count": 17,
   "id": "46f678ce-c20b-4752-9da6-13e54d6d22b4",
   "metadata": {},
   "outputs": [
    {
     "name": "stdout",
     "output_type": "stream",
     "text": [
      "[[2 1 4 5]\n",
      " [6 9 8 7]]\n",
      "\n",
      "[[7 8 0 1]\n",
      " [7 1 9 0]]\n"
     ]
    },
    {
     "data": {
      "text/plain": [
       "array([[2, 1, 4, 5],\n",
       "       [6, 9, 8, 7],\n",
       "       [7, 8, 0, 1],\n",
       "       [7, 1, 9, 0]])"
      ]
     },
     "execution_count": 17,
     "metadata": {},
     "output_type": "execute_result"
    }
   ],
   "source": [
    "var=np.array([[2,1,4,5],[6,9,8,7]])\n",
    "\n",
    "var1=np.array([[7,8,0,1],[7,1,9,0]])\n",
    "\n",
    "print(var)\n",
    "print()\n",
    "print(var1)\n",
    "np.concatenate((var,var1),axis=0)"
   ]
  },
  {
   "cell_type": "markdown",
   "id": "2755a31c-3470-42b2-8ed9-0f95cf23aecf",
   "metadata": {},
   "source": [
    "***\n",
    "# Stack"
   ]
  },
  {
   "cell_type": "markdown",
   "id": "2d122da2-135b-4df2-a1b9-113ea945046f",
   "metadata": {},
   "source": [
    "**This method allows us to join matrix horizontally, vertically and height wise.**"
   ]
  },
  {
   "cell_type": "code",
   "execution_count": 4,
   "id": "e30dd72c-b1e8-4e5b-a264-615f3eacb15b",
   "metadata": {},
   "outputs": [
    {
     "name": "stdout",
     "output_type": "stream",
     "text": [
      "[2 1 4 5]\n",
      "\n",
      "[7 8 0 1]\n",
      "\n",
      "Adding data horizontally :\n",
      " [2 1 4 5 7 8 0 1]\n",
      "\n",
      "Adding data vertically :\n",
      " [[2 1 4 5]\n",
      " [7 8 0 1]]\n",
      "\n",
      "Adding data height wise :\n",
      " [[[2 7]\n",
      "  [1 8]\n",
      "  [4 0]\n",
      "  [5 1]]]\n"
     ]
    }
   ],
   "source": [
    "var=np.array([2,1,4,5])\n",
    "\n",
    "var1=np.array([7,8,0,1])\n",
    "\n",
    "print(var)\n",
    "print()\n",
    "print(var1)\n",
    "print()\n",
    "print(\"Adding data horizontally :\\n\",np.hstack((var,var1)))# joins next array as column.\n",
    "print()\n",
    "print(\"Adding data vertically :\\n\",np.vstack((var,var1)))#joins next array below first array.\n",
    "print()\n",
    "print(\"Adding data height wise :\\n\",np.dstack((var,var1)))#joins each array's index value with its corresponding index of next array."
   ]
  },
  {
   "cell_type": "markdown",
   "id": "1cd8629d-53a6-44fb-8cf6-f3dfbf235f1b",
   "metadata": {},
   "source": [
    "***\n",
    "# Split"
   ]
  },
  {
   "cell_type": "markdown",
   "id": "7122ef31-7d4b-4057-b2af-573f9727cd2a",
   "metadata": {},
   "source": [
    "***\n",
    "# Spliting 1-D"
   ]
  },
  {
   "cell_type": "code",
   "execution_count": 5,
   "id": "f36056b0-dec8-45a5-a4cf-033bbf674f1c",
   "metadata": {},
   "outputs": [
    {
     "name": "stdout",
     "output_type": "stream",
     "text": [
      "[2 1 4 5 7 8 0 1]\n",
      "\n",
      "2\n",
      "1\n",
      "4\n",
      "5\n",
      "\n",
      "7\n",
      "8\n",
      "0\n",
      "1\n",
      "\n"
     ]
    }
   ],
   "source": [
    "arr=np.array([2,1,4,5,7,8,0,1])\n",
    "\n",
    "print(arr)\n",
    "print()\n",
    "sp_arr=np.array_split(arr,2)\n",
    "\n",
    "for i in sp_arr:\n",
    "    for j in i:\n",
    "        print(j)\n",
    "    print()"
   ]
  },
  {
   "cell_type": "markdown",
   "id": "c4dffe20-d72f-4355-a9a7-7ab23a95d80a",
   "metadata": {},
   "source": [
    "***\n",
    "# Spliting 2-D"
   ]
  },
  {
   "cell_type": "code",
   "execution_count": 6,
   "id": "131dc2a5-40ce-44d8-84fd-5ffa82ff35f1",
   "metadata": {},
   "outputs": [],
   "source": [
    "arr2=np.array([[2,1,4,5],[7,8,0,1]])"
   ]
  },
  {
   "cell_type": "code",
   "execution_count": 7,
   "id": "21b8e65c-e027-4854-873c-be50fe8fc5dd",
   "metadata": {},
   "outputs": [
    {
     "name": "stdout",
     "output_type": "stream",
     "text": [
      "[[2 1 4 5]\n",
      " [7 8 0 1]]\n",
      "\n",
      "[array([[2, 1],\n",
      "       [7, 8]]), array([[4, 5],\n",
      "       [0, 1]])]\n"
     ]
    }
   ],
   "source": [
    "print(arr2)\n",
    "print()\n",
    "arr2_split=np.array_split(arr2,2,axis=1)\n",
    "print(arr2_split)"
   ]
  },
  {
   "cell_type": "markdown",
   "id": "82aaf070-5f18-42d1-88f6-e5b6432859cd",
   "metadata": {},
   "source": [
    "***"
   ]
  }
 ],
 "metadata": {
  "kernelspec": {
   "display_name": "Python 3 (ipykernel)",
   "language": "python",
   "name": "python3"
  },
  "language_info": {
   "codemirror_mode": {
    "name": "ipython",
    "version": 3
   },
   "file_extension": ".py",
   "mimetype": "text/x-python",
   "name": "python",
   "nbconvert_exporter": "python",
   "pygments_lexer": "ipython3",
   "version": "3.11.7"
  }
 },
 "nbformat": 4,
 "nbformat_minor": 5
}
