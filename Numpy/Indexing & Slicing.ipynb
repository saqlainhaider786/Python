{
 "cells": [
  {
   "cell_type": "code",
   "execution_count": 1,
   "id": "70a882b5-c642-42b1-89d4-34de2a72f659",
   "metadata": {},
   "outputs": [],
   "source": [
    "import numpy as np"
   ]
  },
  {
   "cell_type": "markdown",
   "id": "781d9d67-da90-4b7b-a3a1-7ac89b65ebd5",
   "metadata": {},
   "source": [
    "# Indexing"
   ]
  },
  {
   "cell_type": "code",
   "execution_count": 17,
   "id": "6e6eeb0e-a157-44b5-9b8b-87f53122dd14",
   "metadata": {},
   "outputs": [
    {
     "name": "stdout",
     "output_type": "stream",
     "text": [
      "7\n",
      "60\n"
     ]
    }
   ],
   "source": [
    "arr=np.array([[\n",
    "               [1,2,5],\n",
    "               [1,4,7]\n",
    "              ],\n",
    "              [\n",
    "                [10,20,40],\n",
    "                 [50,60,90]\n",
    "              ]\n",
    "             ])\n",
    "\n",
    "print(arr[0,1,2])\n",
    "print(arr[1,1,1])"
   ]
  },
  {
   "cell_type": "markdown",
   "id": "ae7783ca-2443-4fc9-8af0-a924bd73affb",
   "metadata": {},
   "source": [
    "***\n",
    "# Slicing"
   ]
  },
  {
   "cell_type": "code",
   "execution_count": 19,
   "id": "1e7c6f4d-4bc6-4b45-b510-971d975e8d72",
   "metadata": {},
   "outputs": [
    {
     "data": {
      "text/plain": [
       "array([1, 3, 5])"
      ]
     },
     "execution_count": 19,
     "metadata": {},
     "output_type": "execute_result"
    }
   ],
   "source": [
    "valu=np.array([1,2,3,4,5,6,7,8,9])\n",
    "\n",
    "print(valu[2:5])#3,4,5\n",
    "print(valu[0:5:2])#1,3,5"
   ]
  },
  {
   "cell_type": "code",
   "execution_count": 22,
   "id": "bb2eaf8d-5fbe-4266-bb56-5ecd83c9145b",
   "metadata": {},
   "outputs": [
    {
     "name": "stdout",
     "output_type": "stream",
     "text": [
      "[3 5 7]\n"
     ]
    }
   ],
   "source": [
    "valu2D=np.array([[2,4,6,8],[1,3,5,7]])\n",
    "\n",
    "print(valu2D[1,1:])"
   ]
  },
  {
   "cell_type": "code",
   "execution_count": 23,
   "id": "c31e72cc-601a-4426-bf24-e3faea986248",
   "metadata": {},
   "outputs": [
    {
     "name": "stdout",
     "output_type": "stream",
     "text": [
      "[12 14]\n"
     ]
    }
   ],
   "source": [
    "valu3D=np.array([[[2,4,6,8],[1,3,5,7]],[[10,12,14,15],[11,19,17,20]]])\n",
    "print(valu3D[1,0,1:3])"
   ]
  },
  {
   "cell_type": "markdown",
   "id": "555ea271-ee28-4efa-97a0-8a10eebd6616",
   "metadata": {},
   "source": [
    "***"
   ]
  }
 ],
 "metadata": {
  "kernelspec": {
   "display_name": "Python 3 (ipykernel)",
   "language": "python",
   "name": "python3"
  },
  "language_info": {
   "codemirror_mode": {
    "name": "ipython",
    "version": 3
   },
   "file_extension": ".py",
   "mimetype": "text/x-python",
   "name": "python",
   "nbconvert_exporter": "python",
   "pygments_lexer": "ipython3",
   "version": "3.11.7"
  }
 },
 "nbformat": 4,
 "nbformat_minor": 5
}
