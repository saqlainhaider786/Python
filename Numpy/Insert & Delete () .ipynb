{
 "cells": [
  {
   "cell_type": "code",
   "execution_count": 1,
   "id": "86601405-0006-49dc-bc0f-638b3ea70103",
   "metadata": {},
   "outputs": [],
   "source": [
    "import numpy as np"
   ]
  },
  {
   "cell_type": "markdown",
   "id": "29778ad5-0e64-4684-97da-a4bb7fee8e9c",
   "metadata": {},
   "source": [
    "# Insert"
   ]
  },
  {
   "cell_type": "markdown",
   "id": "15328080-f057-4a38-a45b-2ef36d39deb5",
   "metadata": {},
   "source": [
    "**insert() : It accepts three arguments : i) array_name. (ii) array's index(can be multiple indices) for value insertion. (iii)value.**"
   ]
  },
  {
   "cell_type": "markdown",
   "id": "9f4226c4-2949-4f0e-9a2d-62b14ce688b9",
   "metadata": {},
   "source": [
    "***Note :*** **It only accepts non-floating numbers.**"
   ]
  },
  {
   "cell_type": "code",
   "execution_count": 2,
   "id": "7526d403-f6b2-473e-9ee5-2ff999d493b3",
   "metadata": {},
   "outputs": [
    {
     "name": "stdout",
     "output_type": "stream",
     "text": [
      "[2 4 6 8]\n"
     ]
    }
   ],
   "source": [
    "var = np.array([2,4,6,8])\n",
    "\n",
    "print(var)"
   ]
  },
  {
   "cell_type": "markdown",
   "id": "0bf6bab7-e5a3-4613-8b6b-16e7b4f5951b",
   "metadata": {},
   "source": [
    "***Insertion on only one index***"
   ]
  },
  {
   "cell_type": "code",
   "execution_count": 3,
   "id": "35a188d3-0e7f-4c8a-966e-eb3d2969b8fb",
   "metadata": {},
   "outputs": [
    {
     "data": {
      "text/plain": [
       "array([2, 4, 6, 7, 8])"
      ]
     },
     "execution_count": 3,
     "metadata": {},
     "output_type": "execute_result"
    }
   ],
   "source": [
    "np.insert(var,3,7)"
   ]
  },
  {
   "cell_type": "markdown",
   "id": "f3c40929-0385-438d-bfc9-11aa5915e5d1",
   "metadata": {},
   "source": [
    "***Insertion on multiple indices***"
   ]
  },
  {
   "cell_type": "code",
   "execution_count": 4,
   "id": "d06ea358-f9a2-496b-89af-73b06d3f494b",
   "metadata": {},
   "outputs": [
    {
     "data": {
      "text/plain": [
       "array([2, 9, 4, 6, 8, 9])"
      ]
     },
     "execution_count": 4,
     "metadata": {},
     "output_type": "execute_result"
    }
   ],
   "source": [
    "np.insert(var,[1,4],9)"
   ]
  },
  {
   "cell_type": "markdown",
   "id": "0823ee0f-be71-4066-8223-e7a8f37221a5",
   "metadata": {},
   "source": [
    "***\n",
    "**2D insertion**"
   ]
  },
  {
   "cell_type": "markdown",
   "id": "b5e18ebc-5ac4-480b-b3f9-032afe4dc93b",
   "metadata": {},
   "source": [
    "**insertion on 0 axis**"
   ]
  },
  {
   "cell_type": "code",
   "execution_count": 5,
   "id": "bae0d17a-29cf-49c0-b2e1-0e610297eb42",
   "metadata": {},
   "outputs": [
    {
     "data": {
      "text/plain": [
       "array([[2, 4, 6],\n",
       "       [9, 7, 6],\n",
       "       [1, 3, 5]])"
      ]
     },
     "execution_count": 5,
     "metadata": {},
     "output_type": "execute_result"
    }
   ],
   "source": [
    "var2=np.array([[2,4,6],[1,3,5]])\n",
    "\n",
    "np.insert(var2,1,[9,7,6],axis=0)#makes 9,7,6 as new column and insert it as 1 - column"
   ]
  },
  {
   "cell_type": "markdown",
   "id": "26e7229b-9ef7-4870-8d3b-3019a03a1ca4",
   "metadata": {},
   "source": [
    "**insertion on 1 axis**"
   ]
  },
  {
   "cell_type": "code",
   "execution_count": 6,
   "id": "3f380059-f2f4-4ad1-ab9f-e1f0e630329e",
   "metadata": {},
   "outputs": [
    {
     "data": {
      "text/plain": [
       "array([[ 2,  5,  4,  6],\n",
       "       [ 1, 10,  3,  5]])"
      ]
     },
     "execution_count": 6,
     "metadata": {},
     "output_type": "execute_result"
    }
   ],
   "source": [
    "np.insert(var2,1,[5,10],axis=1)"
   ]
  },
  {
   "cell_type": "markdown",
   "id": "fc3f08ca-940f-43f4-a5e1-f8335dbb150a",
   "metadata": {},
   "source": [
    "# Append\n",
    "**Works as insert but appends values at the end and accepts floating values**"
   ]
  },
  {
   "cell_type": "markdown",
   "id": "b5f81abe-30f8-4226-9f73-972a34f4b9fa",
   "metadata": {},
   "source": [
    "***\n",
    "# Deletion"
   ]
  },
  {
   "cell_type": "markdown",
   "id": "75b99008-54c9-434e-b5e9-b93eee55fca1",
   "metadata": {},
   "source": [
    "**delete() : It accepts two arguments : i) array_name. (ii) array's index(can be multiple indices) for value deletion.**"
   ]
  },
  {
   "cell_type": "markdown",
   "id": "f615487f-8623-438c-92fd-2991fef9ef5f",
   "metadata": {},
   "source": [
    "# Handling 1D"
   ]
  },
  {
   "cell_type": "code",
   "execution_count": 7,
   "id": "87f8e89b-b726-4b0d-b8f2-944dd6ce9017",
   "metadata": {},
   "outputs": [],
   "source": [
    "arr=np.array([8,2,4,1])"
   ]
  },
  {
   "cell_type": "markdown",
   "id": "ffef2cec-585d-4df9-9c32-88c69b2f8902",
   "metadata": {},
   "source": [
    "**working with single value**"
   ]
  },
  {
   "cell_type": "code",
   "execution_count": 13,
   "id": "67629d83-695a-4ac2-b0e8-7c55e31c4b35",
   "metadata": {},
   "outputs": [
    {
     "name": "stdout",
     "output_type": "stream",
     "text": [
      "[8 2 4 1]\n",
      "[8 2 1]\n"
     ]
    }
   ],
   "source": [
    "delt=np.delete(arr,(2))\n",
    "print(arr)\n",
    "print(delt)"
   ]
  },
  {
   "cell_type": "markdown",
   "id": "8cae987a-da97-48e2-a6b9-f91914891510",
   "metadata": {},
   "source": [
    "**working with multiple values**"
   ]
  },
  {
   "cell_type": "code",
   "execution_count": 14,
   "id": "9bcdec13-9658-4114-bfcc-99a28ea0a82a",
   "metadata": {},
   "outputs": [
    {
     "name": "stdout",
     "output_type": "stream",
     "text": [
      "[8 2 4 1]\n",
      "[2 4]\n"
     ]
    }
   ],
   "source": [
    "delt=np.delete(arr,(0,3))\n",
    "print(arr)\n",
    "print(delt)"
   ]
  },
  {
   "cell_type": "markdown",
   "id": "31655445-7927-473d-afb9-0b5fc7d2af32",
   "metadata": {},
   "source": [
    "***\n",
    "# Handling 2"
   ]
  },
  {
   "cell_type": "markdown",
   "id": "afd27604-ee6e-4c04-be90-c62919c7a9b6",
   "metadata": {},
   "source": [
    "**In case of 2D whole row or column will be deleted.**"
   ]
  },
  {
   "cell_type": "code",
   "execution_count": 27,
   "id": "5548482e-3f73-4bef-818c-383043b5d2e1",
   "metadata": {},
   "outputs": [
    {
     "name": "stdout",
     "output_type": "stream",
     "text": [
      "[[2 5 8]\n",
      " [9 6 4]]\n"
     ]
    }
   ],
   "source": [
    "arr2=np.array([[2,1,5,8],[9,7,6,4]])\n",
    "valDel=np.delete(arr2,[1],axis=1)\n",
    "print(valDel)\n"
   ]
  }
 ],
 "metadata": {
  "kernelspec": {
   "display_name": "Python 3 (ipykernel)",
   "language": "python",
   "name": "python3"
  },
  "language_info": {
   "codemirror_mode": {
    "name": "ipython",
    "version": 3
   },
   "file_extension": ".py",
   "mimetype": "text/x-python",
   "name": "python",
   "nbconvert_exporter": "python",
   "pygments_lexer": "ipython3",
   "version": "3.11.7"
  }
 },
 "nbformat": 4,
 "nbformat_minor": 5
}
