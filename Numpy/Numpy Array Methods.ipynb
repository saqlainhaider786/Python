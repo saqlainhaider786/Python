{
 "cells": [
  {
   "cell_type": "code",
   "execution_count": 1,
   "id": "8583ec5d-1087-4001-9723-bcfdeae899ed",
   "metadata": {},
   "outputs": [],
   "source": [
    "import numpy as np"
   ]
  },
  {
   "cell_type": "code",
   "execution_count": 2,
   "id": "6f96f076-1962-49ea-bf13-f5a8f7c74320",
   "metadata": {},
   "outputs": [],
   "source": [
    "arr=np.array([1,8,2,8,7,1,5,2,9])"
   ]
  },
  {
   "cell_type": "markdown",
   "id": "6bf7894b-c8b0-4654-b6bd-95ba0b1efebb",
   "metadata": {},
   "source": [
    "# Searching"
   ]
  },
  {
   "cell_type": "markdown",
   "id": "c7eb26d3-59f4-49d9-a445-0f2cdb2cc174",
   "metadata": {},
   "source": [
    "**where**:***returns index of particular value in an array.***"
   ]
  },
  {
   "cell_type": "code",
   "execution_count": 5,
   "id": "cb324b7f-429b-483f-8794-85799f2936b0",
   "metadata": {},
   "outputs": [
    {
     "data": {
      "text/plain": [
       "(array([2, 7], dtype=int64),)"
      ]
     },
     "execution_count": 5,
     "metadata": {},
     "output_type": "execute_result"
    }
   ],
   "source": [
    "val=np.where(arr==2)#works as filter in js\n",
    "val"
   ]
  },
  {
   "cell_type": "code",
   "execution_count": 6,
   "id": "61bf148d-eb03-415d-9bdc-b2ccb7f71cde",
   "metadata": {},
   "outputs": [
    {
     "data": {
      "text/plain": [
       "(array([1, 3, 4, 8], dtype=int64),)"
      ]
     },
     "execution_count": 6,
     "metadata": {},
     "output_type": "execute_result"
    }
   ],
   "source": [
    "gr=np.where(arr>5)#works as filter in js\n",
    "gr"
   ]
  },
  {
   "cell_type": "markdown",
   "id": "58d20b82-7671-48f8-a2b7-eec8e5ad56c1",
   "metadata": {},
   "source": [
    "***\n",
    "# Sorting"
   ]
  },
  {
   "cell_type": "code",
   "execution_count": 21,
   "id": "e3018934-d8be-4823-8736-12eec7de7160",
   "metadata": {},
   "outputs": [
    {
     "name": "stdout",
     "output_type": "stream",
     "text": [
      "[[ 1  8  2 18  7]\n",
      " [11  5 12  9  3]]\n",
      "\n",
      "[[ 1  2  7  8 18]\n",
      " [ 3  5  9 11 12]]\n"
     ]
    }
   ],
   "source": [
    "arr=np.array([[1,8,2,18,7],[11,5,12,9,3]])\n",
    "print(arr)\n",
    "print()\n",
    "print(np.sort(arr))"
   ]
  },
  {
   "cell_type": "markdown",
   "id": "4a166e37-42ae-40b9-8667-560b6cb54cc5",
   "metadata": {},
   "source": [
    "***\n",
    "# Filtering an array based on any requirement"
   ]
  },
  {
   "cell_type": "code",
   "execution_count": 23,
   "id": "69908e3c-c5e5-4449-a368-1080fa9f3093",
   "metadata": {},
   "outputs": [
    {
     "name": "stdout",
     "output_type": "stream",
     "text": [
      "[ 8 12 11]\n"
     ]
    }
   ],
   "source": [
    "arrFiltr=np.array([2,1,8,12,9,11])\n",
    "rquir=[False,False,True,True,False,True]#give true on those corresponding index which value's required\n",
    "\n",
    "print(arrFiltr[rquir])"
   ]
  },
  {
   "cell_type": "markdown",
   "id": "04e50c8a-6a51-4b1f-b0a8-615211037ae4",
   "metadata": {},
   "source": [
    "***\n",
    "# Shuffle"
   ]
  },
  {
   "cell_type": "markdown",
   "id": "84f1a4c1-e280-4811-8b04-67ee97972ed0",
   "metadata": {},
   "source": [
    "**Used to mix up data randomly.Works with numpy's random().**"
   ]
  },
  {
   "cell_type": "code",
   "execution_count": 29,
   "id": "c7e15ba8-17e3-4d80-ae08-2bfa80b996fb",
   "metadata": {},
   "outputs": [
    {
     "name": "stdout",
     "output_type": "stream",
     "text": [
      "[1 2 6 8 7]\n",
      "\n",
      "[7 2 6 1 8]\n"
     ]
    }
   ],
   "source": [
    "arrData=np.array([1,2,6,8,7])\n",
    "print(arrData)\n",
    "print()\n",
    "np.random.shuffle(arrData)\n",
    "print(arrData)"
   ]
  },
  {
   "cell_type": "markdown",
   "id": "d55f82e1-fa34-43ea-85b0-9c0a5c66e8a6",
   "metadata": {},
   "source": [
    "***\n",
    "# Unique"
   ]
  },
  {
   "cell_type": "markdown",
   "id": "79c1596b-6ee9-4cb2-b4c1-7e733977c528",
   "metadata": {},
   "source": [
    "**Used to get unique values and their indexes within an array.**"
   ]
  },
  {
   "cell_type": "markdown",
   "id": "028dd547-52b7-408f-822c-389b73116aba",
   "metadata": {},
   "source": [
    "**It has three parameters : array, return_index(if needed) and return_counts(if needed).**"
   ]
  },
  {
   "cell_type": "code",
   "execution_count": 39,
   "id": "2b5b62ae-694b-410a-a122-9771e233e82b",
   "metadata": {},
   "outputs": [
    {
     "data": {
      "text/plain": [
       "(array([1, 2, 4, 5]),\n",
       " array([0, 1, 2, 3], dtype=int64),\n",
       " array([2, 2, 2, 2], dtype=int64))"
      ]
     },
     "execution_count": 39,
     "metadata": {},
     "output_type": "execute_result"
    }
   ],
   "source": [
    "arrRp=np.array([1,2,4,5,1,5,2,4])\n",
    "\n",
    "r=np.unique(arrRp,return_index=True,return_counts=True)\n",
    "r"
   ]
  },
  {
   "cell_type": "markdown",
   "id": "954cff41-82dc-4adf-85a8-9f69d521098d",
   "metadata": {},
   "source": [
    "***\n",
    "# Ravel"
   ]
  },
  {
   "cell_type": "markdown",
   "id": "c2e844fe-c3cc-48a1-84aa-e25b29c7efcf",
   "metadata": {},
   "source": [
    "**It also accepts order: C to change matrix row wise and F to change matrix column wise.**"
   ]
  },
  {
   "cell_type": "code",
   "execution_count": 43,
   "id": "b3d8ed69-0cc9-471e-9e44-297a288e52e0",
   "metadata": {},
   "outputs": [
    {
     "name": "stdout",
     "output_type": "stream",
     "text": [
      "[ 1  8  2 18  7 11  5 12  9  3]\n",
      "\n",
      "[ 1 11  8  5  2 12 18  9  7  3]\n"
     ]
    }
   ],
   "source": [
    "arrRa=np.array([[1,8,2,18,7],[11,5,12,9,3]])\n",
    "rvalRow=np.ravel(arrRa,order=\"C\")#row wise shape changing\n",
    "rvalCol=np.ravel(arrRa,order=\"F\")#column wise shape changing\n",
    "print(rvalRow)\n",
    "print()\n",
    "print(rvalCol)"
   ]
  },
  {
   "cell_type": "code",
   "execution_count": null,
   "id": "e6c480eb-ae2f-4638-8660-45052e51e96e",
   "metadata": {},
   "outputs": [],
   "source": []
  }
 ],
 "metadata": {
  "kernelspec": {
   "display_name": "Python 3 (ipykernel)",
   "language": "python",
   "name": "python3"
  },
  "language_info": {
   "codemirror_mode": {
    "name": "ipython",
    "version": 3
   },
   "file_extension": ".py",
   "mimetype": "text/x-python",
   "name": "python",
   "nbconvert_exporter": "python",
   "pygments_lexer": "ipython3",
   "version": "3.11.7"
  }
 },
 "nbformat": 4,
 "nbformat_minor": 5
}
