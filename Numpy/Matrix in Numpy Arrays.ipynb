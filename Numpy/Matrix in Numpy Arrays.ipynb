{
 "cells": [
  {
   "cell_type": "code",
   "execution_count": 1,
   "id": "f8d63e4e-ac2b-4191-8b45-b158caf3ec6f",
   "metadata": {},
   "outputs": [],
   "source": [
    "import numpy as np"
   ]
  },
  {
   "cell_type": "markdown",
   "id": "80624db3-8623-4bc3-ae77-ece73ce5ef76",
   "metadata": {},
   "source": [
    "# Matrix\n",
    "**Creation of Matrix**"
   ]
  },
  {
   "cell_type": "code",
   "execution_count": 2,
   "id": "2916a0a8-e87d-48ae-8fe5-cd446bf309a2",
   "metadata": {},
   "outputs": [],
   "source": [
    "var= np.matrix([[1,2],[5,6]])\n",
    "var1= np.matrix([[6,4],[9,5]])"
   ]
  },
  {
   "cell_type": "markdown",
   "id": "f5a71135-3fdf-4281-b925-f4f4ea9141e0",
   "metadata": {},
   "source": [
    "# ***Matrix Functions***"
   ]
  },
  {
   "cell_type": "markdown",
   "id": "03536cce-5741-4f0b-ac52-6c0a2b1b06a2",
   "metadata": {},
   "source": [
    "***\n",
    "# Dot product\n",
    "**Also works on the basis of Broadcasting**"
   ]
  },
  {
   "cell_type": "code",
   "execution_count": 3,
   "id": "17c80052-9a68-4bbb-8d39-0553a7fa155a",
   "metadata": {},
   "outputs": [
    {
     "name": "stdout",
     "output_type": "stream",
     "text": [
      "[[1 2]\n",
      " [5 6]]\n",
      "\n",
      "[[6 4]\n",
      " [9 5]]\n",
      "\n",
      "[[24 14]\n",
      " [84 50]]\n"
     ]
    }
   ],
   "source": [
    "print(var)\n",
    "print()\n",
    "print(var1)\n",
    "print()\n",
    "print(var.dot(var1))\n",
    "\n",
    "# print(var@var1)"
   ]
  },
  {
   "cell_type": "markdown",
   "id": "58b2fe36-7b8e-434b-a8f8-5fabaced4e8e",
   "metadata": {},
   "source": [
    "***\n",
    "# Transpose"
   ]
  },
  {
   "cell_type": "markdown",
   "id": "35fefe06-e064-4e64-a619-babee04bfa72",
   "metadata": {},
   "source": [
    "***Handling 1D matrix***"
   ]
  },
  {
   "cell_type": "code",
   "execution_count": 4,
   "id": "7597b022-5b61-44fa-b6b0-62de825b8986",
   "metadata": {},
   "outputs": [
    {
     "data": {
      "text/plain": [
       "matrix([[1, 2, 4],\n",
       "        [2, 6, 8]])"
      ]
     },
     "execution_count": 4,
     "metadata": {},
     "output_type": "execute_result"
    }
   ],
   "source": [
    "mat=np.matrix([[1,2,4],[2,6,8]])\n",
    "\n",
    "mat"
   ]
  },
  {
   "cell_type": "code",
   "execution_count": 5,
   "id": "d7d107ef-9881-4529-8a10-f290a8fcf9f4",
   "metadata": {},
   "outputs": [
    {
     "data": {
      "text/plain": [
       "matrix([[1, 2],\n",
       "        [2, 6],\n",
       "        [4, 8]])"
      ]
     },
     "execution_count": 5,
     "metadata": {},
     "output_type": "execute_result"
    }
   ],
   "source": [
    "np.transpose(mat)"
   ]
  },
  {
   "cell_type": "code",
   "execution_count": 6,
   "id": "2e0cae71-33f5-48f4-b06d-1af7a72cac1d",
   "metadata": {},
   "outputs": [
    {
     "name": "stdout",
     "output_type": "stream",
     "text": [
      "[[1 2 4]\n",
      " [2 6 8]\n",
      " [7 8 2]]\n"
     ]
    }
   ],
   "source": [
    "mat1=np.matrix([[1,2,4],[2,6,8],[7,8,2]])\n",
    "\n",
    "print(mat1)"
   ]
  },
  {
   "cell_type": "code",
   "execution_count": 7,
   "id": "436b669b-7a51-4e99-9596-24cbe897bc08",
   "metadata": {},
   "outputs": [
    {
     "data": {
      "text/plain": [
       "matrix([[1, 2, 7],\n",
       "        [2, 6, 8],\n",
       "        [4, 8, 2]])"
      ]
     },
     "execution_count": 7,
     "metadata": {},
     "output_type": "execute_result"
    }
   ],
   "source": [
    "np.transpose(mat1)#mat1.T"
   ]
  },
  {
   "cell_type": "markdown",
   "id": "1f9540de-9701-4346-9642-8ec223f14bb7",
   "metadata": {},
   "source": [
    "***\n",
    "# Swapaxes"
   ]
  },
  {
   "cell_type": "code",
   "execution_count": 8,
   "id": "a5eb1214-635e-414e-99c9-8f866a1018b9",
   "metadata": {},
   "outputs": [
    {
     "data": {
      "text/plain": [
       "matrix([[1, 2, 7],\n",
       "        [2, 6, 8],\n",
       "        [4, 8, 2]])"
      ]
     },
     "execution_count": 8,
     "metadata": {},
     "output_type": "execute_result"
    }
   ],
   "source": [
    "# Its syntax is : np.swapaxes(mat_name,0,1)\n",
    "#works as transpose()\n",
    "\n",
    "np.swapaxes(mat1,0,1)"
   ]
  },
  {
   "cell_type": "markdown",
   "id": "06459b7d-a917-4fb4-9e63-4773cddbdae3",
   "metadata": {},
   "source": [
    "***\n",
    "# Inverse"
   ]
  },
  {
   "cell_type": "code",
   "execution_count": 9,
   "id": "cdff5153-61b1-47b9-98d1-13af6d3cf383",
   "metadata": {},
   "outputs": [
    {
     "name": "stdout",
     "output_type": "stream",
     "text": [
      "[[1 2]\n",
      " [3 4]]\n",
      "\n",
      "[[-2.   1. ]\n",
      " [ 1.5 -0.5]]\n"
     ]
    }
   ],
   "source": [
    "varInv=np.array([[1,2],[3,4]])\n",
    "print(varInv)\n",
    "print()\n",
    "print(np.linalg.inv(varInv))"
   ]
  },
  {
   "cell_type": "markdown",
   "id": "97424856-adfd-41b8-bfa6-951727cb3b55",
   "metadata": {},
   "source": [
    "***\n",
    "# Power"
   ]
  },
  {
   "cell_type": "code",
   "execution_count": 10,
   "id": "0597d2d1-3909-4bad-b0bc-62479b4c3046",
   "metadata": {},
   "outputs": [],
   "source": [
    "#np.linalg.matrix_power(mat_name,pow)"
   ]
  },
  {
   "cell_type": "markdown",
   "id": "3a677f4c-0952-4521-91fe-1d94184676a9",
   "metadata": {},
   "source": [
    "***\n",
    "# Determinate"
   ]
  },
  {
   "cell_type": "code",
   "execution_count": 15,
   "id": "af42556d-401b-45e9-a676-2d1f9c84494e",
   "metadata": {},
   "outputs": [
    {
     "name": "stdout",
     "output_type": "stream",
     "text": [
      "0.0\n"
     ]
    }
   ],
   "source": [
    "matDet=np.matrix([[1,2,3],[3,4,3],[1,2,3]])\n",
    "\n",
    "print(np.linalg.det(matDet))"
   ]
  },
  {
   "cell_type": "markdown",
   "id": "bca98be2-35d9-40d4-a778-1644383bef16",
   "metadata": {},
   "source": [
    "***"
   ]
  }
 ],
 "metadata": {
  "kernelspec": {
   "display_name": "Python 3 (ipykernel)",
   "language": "python",
   "name": "python3"
  },
  "language_info": {
   "codemirror_mode": {
    "name": "ipython",
    "version": 3
   },
   "file_extension": ".py",
   "mimetype": "text/x-python",
   "name": "python",
   "nbconvert_exporter": "python",
   "pygments_lexer": "ipython3",
   "version": "3.11.7"
  }
 },
 "nbformat": 4,
 "nbformat_minor": 5
}
